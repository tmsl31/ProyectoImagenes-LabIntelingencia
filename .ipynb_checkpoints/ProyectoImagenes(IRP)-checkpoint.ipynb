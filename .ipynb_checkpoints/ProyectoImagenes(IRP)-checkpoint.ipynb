{
 "cells": [
  {
   "cell_type": "markdown",
   "metadata": {},
   "source": [
    "# Proyecto Final Lab Inteligencia (Imagenes): IRP "
   ]
  },
  {
   "cell_type": "code",
   "execution_count": 2,
   "metadata": {},
   "outputs": [],
   "source": [
    "#Imports\n",
    "import matplotlib.pyplot as plt\n",
    "import numpy as np\n",
    "import cv2\n",
    "from scipy.spatial import distance as dist\n",
    "import argparse\n",
    "import glob\n",
    "from skimage.feature import hog\n",
    "from skimage import exposure"
   ]
  },
  {
   "cell_type": "code",
   "execution_count": 132,
   "metadata": {},
   "outputs": [],
   "source": [
    "#Realizar la carga de las listas usando numpy.load\n",
    "#Guardar datos.\n",
    "#5 Divisiones\n",
    "nombres5 = np.load('nombres5.npy')\n",
    "clases5 = np.load('clases5.npy')\n",
    "histos5 = np.load('histos5.npy')\n",
    "nombresQ5 = np.load('nombresQ5.npy')\n",
    "clasesQ5 = np.load('clasesQ5.npy')\n",
    "compQ5 = np.load('compQ5.npy')\n",
    "#Divisiones con HOG\n",
    "nombresHOG = np.load('nombresHoG.npy')\n",
    "clasesHOG = np.load('clasesHoG.npy')\n",
    "histosHOG = np.load('histosHoG.npy')\n",
    "nombresQueryAlt = np.load('nombresQueryAlt.npy')\n",
    "compQueryAlt = np.load('compQueryAlt.npy')\n",
    "clasesQueryAlt = np.load('clasesQueryAlt.npy')"
   ]
  },
  {
   "cell_type": "code",
   "execution_count": 133,
   "metadata": {},
   "outputs": [
    {
     "data": {
      "text/plain": [
       "(150, 407)"
      ]
     },
     "execution_count": 133,
     "metadata": {},
     "output_type": "execute_result"
    }
   ],
   "source": [
    "compQ5.shape"
   ]
  },
  {
   "cell_type": "code",
   "execution_count": 134,
   "metadata": {},
   "outputs": [
    {
     "data": {
      "text/plain": [
       "(150, 407)"
      ]
     },
     "execution_count": 134,
     "metadata": {},
     "output_type": "execute_result"
    }
   ],
   "source": [
    "compQueryAlt.shape"
   ]
  },
  {
   "cell_type": "markdown",
   "metadata": {},
   "source": [
    "## 8) IRP"
   ]
  },
  {
   "cell_type": "markdown",
   "metadata": {},
   "source": [
    "### 8.1) Implementación de IRP."
   ]
  },
  {
   "cell_type": "code",
   "execution_count": 145,
   "metadata": {},
   "outputs": [],
   "source": [
    "#Funcion que ordene de acuerdo a los valores de cercania\n",
    "def ordenarIRP(indices,vecComparaciones):\n",
    "    #Orden\n",
    "    orden = np.argsort(vecComparaciones)\n",
    "    #Ordenar los indices de acuerdo al orden\n",
    "    indexOrdenado = np.zeros_like(indices)\n",
    "    count = 0\n",
    "    for i in orden:\n",
    "        indexOrdenado[count] = indices[i]\n",
    "        count += 1\n",
    "    return indexOrdenado\n",
    "\n",
    "#Funcion que calcule los nuevos valores IRP para la combinación de los métodos.\n",
    "def valoresIRPIndividual(vecComp1,vecComp2):\n",
    "    largoComp = len(vecComp1)\n",
    "    #Nombres de imagen\n",
    "    name1 = np.arange(largoComp) + 1\n",
    "    name2 = np.arange(largoComp) + 1\n",
    "    #Ordenar y obtener el orden de índices.\n",
    "    ind1 = ordenarIRP(name1,vecComp1)\n",
    "    ind2 = ordenarIRP(name2,vecComp2)\n",
    "    #Obtener los valores de EIRP asociados a cada imagen en orden. \n",
    "    valoresIRP = np.zeros_like(vecComp1)\n",
    "    count = 0\n",
    "    for i in name1:\n",
    "        pos1 = np.where(ind1 == i)[0][0] + 1\n",
    "        pos2 = np.where(ind2 == i)[0][0] + 1\n",
    "        valorIRP = 1/((1/pos1)+(1/pos2))\n",
    "        valoresIRP[count] = valorIRP\n",
    "        count += 1\n",
    "    return valoresIRP  \n",
    "\n",
    "def ordenarClasesNombre(IRP, clases, nombres):\n",
    "    #Ordenar IRP.\n",
    "    orden = np.argsort(IRP)\n",
    "    #Generacion de arreglos ordenados.\n",
    "    clasesOrdenadas = np.zeros_like(clases)\n",
    "    nombresOrdenados = np.zeros_like(nombres)\n",
    "    #Ordenar clases y nombres.\n",
    "    count = 0\n",
    "    for i in orden:\n",
    "        clasesOrdenadas[count] = clases[i]\n",
    "        nombresOrdenados[count] = nombres[i]\n",
    "        count += 1\n",
    "    return clasesOrdenadas,nombresOrdenados\n",
    "        \n",
    "    \n",
    "def ordenarPorIRP(matComparaciones1,matComparaciones2,clases = clases5 ,nombres = nombres5):\n",
    "    #Generar nueva matriz\n",
    "    newMat = np.array([])\n",
    "    #Dimensiones de la matriz.\n",
    "    fils,cols = matComparaciones1.shape\n",
    "    #Ciclo.\n",
    "    count = 0\n",
    "    #Arreglos que almacenen nombres y clases ordenadas.\n",
    "    matClasesOrdenadas = np.array([])\n",
    "    matNombresOrdenadas = np.array([])\n",
    "    while count < fils:\n",
    "        vectorIRP = valoresIRPIndividual(matComparaciones1[count,:],matComparaciones2[count,:])\n",
    "        classOrdenada,nameOrdenado = ordenarClasesNombre(vectorIRP, clases,nombres)\n",
    "        if count == 0:\n",
    "            matClasesOrdenadas = classOrdenada\n",
    "            matNombresOrdenadas = nameOrdenado\n",
    "        elif(count==1):\n",
    "            matClasesOrdenadas = np.concatenate((np.array([matClasesOrdenadas]),np.array([classOrdenada])),axis=0)\n",
    "            matNombresOrdenadas = np.concatenate((np.array([matNombresOrdenadas]),np.array([nameOrdenado])),axis=0)\n",
    "        else:\n",
    "            matClasesOrdenadas = np.concatenate((matClasesOrdenadas,np.array([classOrdenada])),axis=0)\n",
    "            matNombresOrdenadas = np.concatenate((matNombresOrdenadas,np.array([nameOrdenado])),axis=0)\n",
    "        count += 1\n",
    "    return matClasesOrdenadas,matNombresOrdenadas"
   ]
  },
  {
   "cell_type": "code",
   "execution_count": 146,
   "metadata": {},
   "outputs": [],
   "source": [
    "matClasesIRP,matNombreIRP = ordenarPorIRP(compQueryAlt,compQ5)"
   ]
  },
  {
   "cell_type": "code",
   "execution_count": 149,
   "metadata": {},
   "outputs": [
    {
     "data": {
      "text/plain": [
       "(150, 407)"
      ]
     },
     "execution_count": 149,
     "metadata": {},
     "output_type": "execute_result"
    }
   ],
   "source": [
    "matClasesIRP.shape"
   ]
  },
  {
   "cell_type": "markdown",
   "metadata": {},
   "source": [
    "### 8.2) Cálculo de métricas. "
   ]
  },
  {
   "cell_type": "code",
   "execution_count": 150,
   "metadata": {},
   "outputs": [],
   "source": [
    "#Funcion que calcule el Rank Normalizado para las figuras.\n",
    "def rankNormalizadoIndividualIRP(claseQuery,vectorClasesOrdenado):\n",
    "    #Numero total de elementos en el conjunto.\n",
    "    N = len(nombresHOG)  \n",
    "    #Elementos del conjunto de la misma clase que el elemnto de la Query.\n",
    "    Nrel = np.count_nonzero(clasesHOG == claseQuery)\n",
    "    #Ordenar comparaciones y datos. Ordenamiento de acuerdo al valor del vector de comparaciones.\n",
    "    #Calculo del rank normalizado.\n",
    "    factor1 = 1/(N*Nrel)\n",
    "    factor2 = (Nrel*(Nrel+1))/(2)\n",
    "    sumaR = np.sum(np.ravel(np.argwhere(vectorClasesOrdenado==claseQuery)))\n",
    "    rankNorm = factor1 * (sumaR - factor2)\n",
    "    return rankNorm\n",
    "\n",
    "#Funcion que calcule el rank normalizado promedio de todas las figuras query.\n",
    "def rankNormalizadoIRP():\n",
    "    #Funcion que calcule el rank promedio de todas las query.\n",
    "    count = 0\n",
    "    rankTot = np.array([])\n",
    "    for clasesOrd in matClasesIRP:\n",
    "        rank = rankNormalizadoIndividualIRP(clasesQ5[count],clasesOrd)\n",
    "        rankTot = np.append(rankTot,rank)\n",
    "        count += 1\n",
    "    rankPromedio = np.mean(rankTot)\n",
    "    return rankPromedio"
   ]
  },
  {
   "cell_type": "code",
   "execution_count": 151,
   "metadata": {},
   "outputs": [],
   "source": [
    "rankNormIRP = rankNormalizadoIRP()"
   ]
  },
  {
   "cell_type": "code",
   "execution_count": 152,
   "metadata": {},
   "outputs": [
    {
     "name": "stdout",
     "output_type": "stream",
     "text": [
      "0.1026995956995957\n"
     ]
    }
   ],
   "source": [
    "print(rankNormIRP)"
   ]
  },
  {
   "cell_type": "markdown",
   "metadata": {},
   "source": [
    "### 8.3) Visualización de resultados."
   ]
  },
  {
   "cell_type": "code",
   "execution_count": null,
   "metadata": {},
   "outputs": [],
   "source": [
    "#Funcion que entregue las diez mejores imagenes\n",
    "def parte6(numeroImagen):    \n",
    "    comparaciones = compQueryAlt[numeroImagen,:]\n",
    "    comparacionesOrdenado,clasesOrdenado,nombresOrdenado = ordenarVector(comparaciones,clasesHoG,nombresHoG)\n",
    "    print('Imagen Query:', nombresQueryAlt[numeroImagen])\n",
    "    mejores = nombresOrdenado[0:10]\n",
    "    print('Mejores 10 imagenes:', mejores)\n",
    "    # Imprimir Query\n",
    "    imQ = cv2.imread(\"img_query\\\\\"+nombresQueryAlt[numeroImagen])\n",
    "    imQ = cv2.resize(imQ,None,fx=.2, fy=.2, interpolation = cv2.INTER_CUBIC)\n",
    "    cv2.imshow(\"imagenQuery\",imQ)\n",
    "    cv2.waitKey(0)\n",
    "    cv2.destroyAllWindows()\n",
    "    # loop over the results\n",
    "    for im in mejores:\n",
    "        # load the result image and display it\n",
    "        result = cv2.imread(\"img_database\\\\\" + im)\n",
    "        result = cv2.resize(result,None,fx=.2, fy=.2, interpolation = cv2.INTER_CUBIC)\n",
    "        cv2.imshow(im, result)\n",
    "        cv2.waitKey(0)\n",
    "    cv2.destroyAllWindows()"
   ]
  },
  {
   "cell_type": "code",
   "execution_count": null,
   "metadata": {},
   "outputs": [],
   "source": [
    "#Funcion que entregue las diez mejores imagenes\n",
    "def parte6Pro(numeroImagen):    \n",
    "    comparaciones = compQueryAlt[numeroImagen,:]\n",
    "    #Ordenar\n",
    "    comparacionesOrdenado,clasesOrdenado,nombresOrdenado = ordenarVector(comparaciones,clasesHoG,nombresHoG)\n",
    "    mejores = nombresOrdenado[0:10]\n",
    "    nameQuery = nombresQueryAlt[numeroImagen]\n",
    "    claseQuery = clasesQueryAlt[numeroImagen]\n",
    "    #Definicion del grafico.\n",
    "    fig=plt.figure(figsize=(20, 20))\n",
    "    columns = 3\n",
    "    rows = 5\n",
    "    #Imagen Query\n",
    "    imQ = cv2.imread(\"img_query\\\\\"+nombresQueryAlt[numeroImagen])\n",
    "    imQ = cv2.cvtColor(imQ,cv2.COLOR_BGR2RGB)\n",
    "    fig.add_subplot(rows, columns, 2)\n",
    "    plt.axis('off')\n",
    "    plt.title(\"imagen Query. Clase: \" + str(clasesQueryAlt[numeroImagen]))\n",
    "    plt.imshow(imQ, aspect='auto')\n",
    "    #Presentación de opciones.\n",
    "    for i in range(0, 10):\n",
    "        imgBGR = cv2.imread(\"img_database\\\\\" + mejores[i])\n",
    "        img = cv2.cvtColor(imgBGR,cv2.COLOR_BGR2RGB)\n",
    "        fig.add_subplot(rows, columns, i+4)\n",
    "        plt.axis('off')   \n",
    "        if(str(claseQuery)==str(clasesOrdenado[i])):\n",
    "             plt.title(\"Imagen Database de clase: \" + str(clasesOrdenado[i]),color='g')\n",
    "        else:\n",
    "             plt.title(\"Imagen database de tipo: \" + str(clasesOrdenado[i]),color='r')\n",
    "        plt.imshow(img, aspect='auto')\n",
    "        \n",
    "    plt.savefig('comparacionImagen' + str(numeroImagen) + 'divHog' +  '.jpg')"
   ]
  }
 ],
 "metadata": {
  "kernelspec": {
   "display_name": "Python 3",
   "language": "python",
   "name": "python3"
  },
  "language_info": {
   "codemirror_mode": {
    "name": "ipython",
    "version": 3
   },
   "file_extension": ".py",
   "mimetype": "text/x-python",
   "name": "python",
   "nbconvert_exporter": "python",
   "pygments_lexer": "ipython3",
   "version": "3.7.1"
  }
 },
 "nbformat": 4,
 "nbformat_minor": 2
}
