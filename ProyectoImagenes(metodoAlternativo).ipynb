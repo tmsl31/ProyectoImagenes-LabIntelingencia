{
 "cells": [
  {
   "cell_type": "markdown",
   "metadata": {},
   "source": [
    "# Proyecto Final Lab Inteligencia (Imagenes): Método alternativo "
   ]
  },
  {
   "cell_type": "code",
   "execution_count": 1,
   "metadata": {},
   "outputs": [],
   "source": [
    "#Imports\n",
    "import matplotlib.pyplot as plt\n",
    "import numpy as np\n",
    "import cv2\n",
    "from scipy.spatial import distance as dist\n",
    "import argparse\n",
    "import glob"
   ]
  },
  {
   "cell_type": "markdown",
   "metadata": {},
   "source": [
    "## 7) Uso de un método alternativo para la extracción de características"
   ]
  },
  {
   "cell_type": "markdown",
   "metadata": {},
   "source": [
    "Se utiliza el método HoG (Histograms of Gradients) para realizar la extracción de caractrísticas. Se reutilizan varias de las funciones utilizadas anteriormente."
   ]
  },
  {
   "cell_type": "markdown",
   "metadata": {},
   "source": [
    "### 7.1) Lectura de imagen (en RGB)"
   ]
  },
  {
   "cell_type": "code",
   "execution_count": 2,
   "metadata": {},
   "outputs": [],
   "source": [
    "#Funcion que lear una imagen a RGB\n",
    "def leerRGB (nombreImagen):\n",
    "    #Lectura\n",
    "    readImage = cv2.imread(nombreImagen)\n",
    "    return readImage"
   ]
  },
  {
   "cell_type": "code",
   "execution_count": 7,
   "metadata": {},
   "outputs": [],
   "source": [
    "test = leerRGB('100501.jpg')"
   ]
  },
  {
   "cell_type": "code",
   "execution_count": 8,
   "metadata": {},
   "outputs": [],
   "source": [
    "cv2.imshow('image',test)\n",
    "cv2.waitKey(0)\n",
    "cv2.destroyAllWindows()"
   ]
  },
  {
   "cell_type": "code",
   "execution_count": 22,
   "metadata": {},
   "outputs": [
    {
     "data": {
      "text/plain": [
       "(2448, 3264, 3)"
      ]
     },
     "execution_count": 22,
     "metadata": {},
     "output_type": "execute_result"
    }
   ],
   "source": [
    "#Dimensiones de cada una de las imagenes\n",
    "test.shape"
   ]
  },
  {
   "cell_type": "markdown",
   "metadata": {},
   "source": [
    "### 7.2) División de la imagen en razones 1:2 (6filasx3columas)"
   ]
  },
  {
   "cell_type": "code",
   "execution_count": 23,
   "metadata": {},
   "outputs": [],
   "source": [
    "#Funcion que recorte la imagen en 6x3 celdas. Devuelve 18 submatrices.\n",
    "def div9Celdas(imRGB):\n",
    "    #division\n",
    "    R = imRGB[:,:,0]\n",
    "    G = imRGB[:,:,1]\n",
    "    B = imRGB[:,:,2]\n",
    "    #Dimensiones de la imagen\n",
    "    alto,ancho,prof = imRGB.shape\n",
    "    #Nuevas dimensiones\n",
    "    nuevoAlto = int(alto/6)\n",
    "    nuevoAncho = int(ancho/3)\n",
    "    #Creacion de las tres matrices (inicialmente vacias).\n",
    "    Rdiv = np.zeros([nuevoAlto,nuevoAncho,18])\n",
    "    Gdiv = np.zeros([nuevoAlto,nuevoAncho,18])\n",
    "    Bdiv = np.zeros([nuevoAlto,nuevoAncho,18])\n",
    "    #Dividir imagen\n",
    "    vecDivisionesAlto = [0,nuevoAlto,nuevoAlto,nuevoAlto*2,nuevoAlto*2,nuevoAlto*3,nuevoAlto*3,nuevoAlto*4,nuevoAlto*4,nuevoAlto*5,nuevoAlto*5,nuevoAlto*6]\n",
    "    vecDivisionesAncho = [0,nuevoAncho,nuevoAncho,nuevoAncho*2,nuevoAncho*2,nuevoAncho*3]\n",
    "    count = 0\n",
    "    count1 = 0\n",
    "    while count1 <= 11:\n",
    "        count2 = 0\n",
    "        while count2 <= 5:\n",
    "            Rdiv[:,:,count] = R[vecDivisionesAlto[count1]:vecDivisionesAlto[count1+1],vecDivisionesAncho[count2]:vecDivisionesAncho[count2+1]]\n",
    "            Gdiv[:,:,count] = G[vecDivisionesAlto[count1]:vecDivisionesAlto[count1+1],vecDivisionesAncho[count2]:vecDivisionesAncho[count2+1]]\n",
    "            Bdiv[:,:,count] = B[vecDivisionesAlto[count1]:vecDivisionesAlto[count1+1],vecDivisionesAncho[count2]:vecDivisionesAncho[count2+1]]\n",
    "            count += 1\n",
    "            count2 += 2\n",
    "        count1 +=2  \n",
    "        \n",
    "    return np.uint8(Rdiv),np.uint8(Gdiv),np.uint8(Bdiv)"
   ]
  },
  {
   "cell_type": "markdown",
   "metadata": {},
   "source": [
    "### 7.3) Cálculo de los gradientes."
   ]
  },
  {
   "cell_type": "code",
   "execution_count": 27,
   "metadata": {},
   "outputs": [],
   "source": [
    "#Funcion que calcule los gradientes de las matrices RGB en x e y.\n",
    "def gradienteCartesianas(imRGB):\n",
    "    #Se almacenan los valores en tres matrices, correspondientes a R,G y B.\n",
    "    #Division de la imagen.\n",
    "    Rdiv,Gdiv,Bdiv = div9Celdas(imRGB)\n",
    "    #Calculo del gradiente en x e y.\n",
    "    #R.\n",
    "    gxR = cv2.Sobel(Rdiv, cv2.CV_32F, 1, 0, ksize=1)\n",
    "    gyR = cv2.Sobel(Rdiv, cv2.CV_32F, 0, 1, ksize=1)\n",
    "    #G\n",
    "    gxG = cv2.Sobel(Gdiv, cv2.CV_32F, 1, 0, ksize=1)\n",
    "    gyG = cv2.Sobel(Gdiv, cv2.CV_32F, 0, 1, ksize=1)\n",
    "    #B\n",
    "    gxB = cv2.Sobel(Bdiv, cv2.CV_32F, 1, 0, ksize=1)\n",
    "    gyB = cv2.Sobel(Bdiv, cv2.CV_32F, 0, 1, ksize=1)\n",
    "    return gxR,gyR,gxG,gyG,gxB,gyB\n",
    "\n",
    "#Funcion que calcule las matrices de magnitud y orientación\n",
    "def gradientePolares(imRGB):\n",
    "    #Calculo del gradiente en polares.\n",
    "    gxR,gyR,gxG,gyG,gxB,gyB = gradienteCartesianas(imRGB)\n",
    "    #Paso a coordenadas polares.\n",
    "    #R\n",
    "    magR, angleR = cv2.cartToPolar(gxR, gyR, angleInDegrees=True)\n",
    "    #G\n",
    "    magG, angleG = cv2.cartToPolar(gxG, gyG, angleInDegrees=True)\n",
    "    #B\n",
    "    magB, angleB = cv2.cartToPolar(gxB, gyB, angleInDegrees=True)\n",
    "    return magR,angleR,magG,angleG,magB,angleB\n",
    "\n",
    "#Lo que se obtienen son matrices de dimensiones 408 por 1088 por 18."
   ]
  },
  {
   "cell_type": "markdown",
   "metadata": {},
   "source": [
    "### 7.4) Cálculo de los histogramas."
   ]
  },
  {
   "cell_type": "code",
   "execution_count": 38,
   "metadata": {},
   "outputs": [],
   "source": [
    "#Funcion que normalice histograma.\n",
    "#Funcion que realice la normalización de histogramas\n",
    "def normHist(histogram):\n",
    "    sumaHist = np.sum(histogram)\n",
    "    normHist = (1/sumaHist)*histogram\n",
    "    normHist = np.ravel(normHist)\n",
    "    return normHist\n",
    "\n",
    "#Funcion que cree un histograma para una matriz de magnitudes y una matriz de angulo.\n",
    "def creacionHistogramaIndividual(mag,angle):\n",
    "    #Dimensiones de las divisiones\n",
    "    altura,ancho,prof = mag.shape\n",
    "    #Creación del arreglo histograma\n",
    "    hist = np.array([0,0,0,0,0,0,0,0,0])\n",
    "    #Generación histograma\n",
    "    count1 = 0\n",
    "    count2 = 0\n",
    "    while count1 < altura:\n",
    "        while count2 < ancho:\n",
    "            #Casos de igualdad.\n",
    "            if(angle[count1,count2]==0):\n",
    "                hist[0] = hist[0] + mag[count1,count2]\n",
    "            elif(angle[count1,count2]==20):\n",
    "                hist[1] = hist[1] + mag[count1,count2]\n",
    "            elif(angle[count1,count2]==40):\n",
    "                hist[2] = hist[2] + mag[count1,count2]\n",
    "            elif(angle[count1,count2]==60):\n",
    "                hist[3] = hist[3] + mag[count1,count2]\n",
    "            elif(angle[count1,count2]==80):\n",
    "                hist[4] = hist[4] + mag[count1,count2]\n",
    "            elif(angle[count1,count2]==100):\n",
    "                hist[5] = hist[5] + mag[count1,count2]\n",
    "            elif(angle[count1,count2]==120):\n",
    "                hist[6] = hist[6] + mag[count1,count2]\n",
    "            elif(angle[count1,count2]==140):\n",
    "                hist[7] = hist[7] + mag[count1,count2]\n",
    "            elif(angle[count1,count2]==160):\n",
    "                hist[8] = hist[8] + mag[count1,count2]                \n",
    "            #Casos de valores intermedios.\n",
    "            elif((angle[count1,count2]>0) and (angle[count1,count2]<20)):\n",
    "                hist[0] = hist[0] + mag[count1,count2]/2\n",
    "                hist[1] = hist[1] + mag[count1,count2]/2\n",
    "            elif((angle[count1,count2]>20) and (angle[count1,count2]<40)):\n",
    "                hist[1] = hist[1] + mag[count1,count2]/2\n",
    "                hist[2] = hist[2] + mag[count1,count2]/2\n",
    "            elif((angle[count1,count2]>40) and (angle[count1,count2]<60)):\n",
    "                hist[2] = hist[2] + mag[count1,count2]/2\n",
    "                hist[3] = hist[3] + mag[count1,count2]/2\n",
    "            elif((angle[count1,count2]>60) and (angle[count1,count2]<80)):\n",
    "                hist[3] = hist[3] + mag[count1,count2]/2\n",
    "                hist[4] = hist[4] + mag[count1,count2]/2\n",
    "            elif((angle[count1,count2]>80) and (angle[count1,count2]<100)):\n",
    "                hist[4] = hist[4] + mag[count1,count2]/2\n",
    "                hist[5] = hist[5] + mag[count1,count2]/2\n",
    "            elif((angle[count1,count2]>100) and (angle[count1,count2]<120)):\n",
    "                hist[5] = hist[5] + mag[count1,count2]/2\n",
    "                hist[6] = hist[6] + mag[count1,count2]/2\n",
    "            elif((angle[count1,count2]>120) and (angle[count1,count2]<140)):\n",
    "                hist[6] = hist[6] + mag[count1,count2]/2\n",
    "                hist[7] = hist[7] + mag[count1,count2]/2\n",
    "            elif((angle[count1,count2]>140) and (angle[count1,count2]<160)):\n",
    "                hist[7] = hist[7] + mag[count1,count2]/2\n",
    "                hist[8] = hist[8] + mag[count1,count2]/2\n",
    "            elif((angle[count1,count2]>160) and (angle[count1,count2]<180)):\n",
    "                hist[8] = hist[8] + mag[count1,count2]/2\n",
    "                hist[0] = hist[0] + mag[count1,count2]/2\n",
    "            count2 += 1\n",
    "        count1 += 1\n",
    "    \n",
    "    histNormalizado = normHist(hist)\n",
    "    return histNormalizado\n",
    "\n",
    "#Funcion que concatene los histogramas de las divisiones para generar el histograma de canal.\n",
    "def creacionHistogramaCanal(magCanal,angCanal):\n",
    "    #Dimensiones.\n",
    "    alto,ancho,prof = magCanal.shape\n",
    "    #Creacion de arreglo del histograma conjunto\n",
    "    histConjunto = np.zeros(prof*9)\n",
    "    #Iteraciones sobre las distintas divisiones.\n",
    "    count = 0\n",
    "    while count < prof:\n",
    "        histDivision = creacionHistogramaIndividual(magCanal[count],angCanal[count])\n",
    "        histConjunto[count*9:count*9+9] = histDivision\n",
    "        count += 1\n",
    "    return histConjunto      \n",
    "      \n",
    "#Funcion que genere el histograma concatenado para una imagen.\n",
    "def histogramaGradienteImagen(imRGB):\n",
    "    #Calculo de los gradientes en polares.\n",
    "    magR,angleR,magG,angleG,magB,angleB = gradientePolares(imRGB)\n",
    "    #Calculo de los histogramas:\n",
    "    histR = creacionHistogramaCanal(magR,angleR)\n",
    "    histG = creacionHistogramaCanal(magG,angleG)\n",
    "    histB = creacionHistogramaCanal(magB,angleB)\n",
    "    #Concatenacion\n",
    "    hisTotal = np.concatenate((histR,histG,histB))\n",
    "    #Resultado\n",
    "    return histTotal\n",
    "    "
   ]
  },
  {
   "cell_type": "code",
   "execution_count": 28,
   "metadata": {},
   "outputs": [
    {
     "data": {
      "text/plain": [
       "False"
      ]
     },
     "execution_count": 28,
     "metadata": {},
     "output_type": "execute_result"
    }
   ],
   "source": [
    "True and False"
   ]
  },
  {
   "cell_type": "code",
   "execution_count": 31,
   "metadata": {},
   "outputs": [],
   "source": [
    "a = np.zeros(9)\n",
    "b = np.ones(9)"
   ]
  },
  {
   "cell_type": "code",
   "execution_count": 37,
   "metadata": {},
   "outputs": [
    {
     "data": {
      "text/plain": [
       "array([0., 0., 0., 0., 0., 0., 0., 0., 0., 1., 1., 1., 1., 1., 1., 1., 1.,\n",
       "       1., 0., 0., 0., 0., 0., 0., 0., 0., 0.])"
      ]
     },
     "execution_count": 37,
     "metadata": {},
     "output_type": "execute_result"
    }
   ],
   "source": [
    "np.concatenate((a,b,a))"
   ]
  },
  {
   "cell_type": "code",
   "execution_count": null,
   "metadata": {},
   "outputs": [],
   "source": []
  }
 ],
 "metadata": {
  "kernelspec": {
   "display_name": "Python 3",
   "language": "python",
   "name": "python3"
  },
  "language_info": {
   "codemirror_mode": {
    "name": "ipython",
    "version": 3
   },
   "file_extension": ".py",
   "mimetype": "text/x-python",
   "name": "python",
   "nbconvert_exporter": "python",
   "pygments_lexer": "ipython3",
   "version": "3.7.1"
  }
 },
 "nbformat": 4,
 "nbformat_minor": 2
}
