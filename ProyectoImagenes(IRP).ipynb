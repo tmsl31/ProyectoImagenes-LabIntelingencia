{
 "cells": [
  {
   "cell_type": "markdown",
   "metadata": {},
   "source": [
    "# Proyecto Final Lab Inteligencia (Imagenes): IRP "
   ]
  },
  {
   "cell_type": "code",
   "execution_count": 2,
   "metadata": {},
   "outputs": [],
   "source": [
    "#Imports\n",
    "import matplotlib.pyplot as plt\n",
    "import numpy as np\n",
    "import cv2\n",
    "from scipy.spatial import distance as dist\n",
    "import argparse\n",
    "import glob\n",
    "from skimage.feature import hog\n",
    "from skimage import exposure"
   ]
  },
  {
   "cell_type": "code",
   "execution_count": 3,
   "metadata": {},
   "outputs": [],
   "source": [
    "#Realizar la carga de las listas usando numpy.load\n",
    "#Guardar datos.\n",
    "#5 Divisiones\n",
    "nombres5 = np.load('nombres5.npy')\n",
    "clases5 = np.load('clases5.npy')\n",
    "histos5 = np.load('histos5.npy')\n",
    "nombresQ5 = np.load('nombresQ5.npy')\n",
    "clasesQ5 = np.load('clasesQ5.npy')\n",
    "compQ5 = np.load('compQ5.npy')\n",
    "#Divisiones con HOG\n",
    "nombresHOG = np.load('nombresHoG.npy')\n",
    "clasesHOG = np.load('clasesHoG.npy')\n",
    "histosHOG = np.load('histosHoG.npy')\n",
    "nombresQueryAlt = np.load('nombresQueryAlt.npy')\n",
    "compQueryAlt = np.load('compQueryAlt.npy')\n",
    "clasesQueryAlt = np.load('clasesQueryAlt.npy')"
   ]
  },
  {
   "cell_type": "code",
   "execution_count": 12,
   "metadata": {},
   "outputs": [],
   "source": [
    "def ordenarIRP(indices,valoresComparaciones,vecNombres):\n",
    "    #Orden\n",
    "    orden = np.argsort(valoresComparaciones)\n",
    "    #Ordenar los indices de acuerdo al orden\n",
    "    indexOrdenado = np.zeros_like(indices)\n",
    "    nombresOrdenado = np.zeros_like(vecNombres)\n",
    "    count = 0\n",
    "    for i in orden:\n",
    "        indexOrdenado[count] = indices[i]\n",
    "        nombresOrdenado[count] = vecNombres[i]\n",
    "        count += 1\n",
    "    return indexOrdenado,nombresOrdenado"
   ]
  },
  {
   "cell_type": "code",
   "execution_count": 102,
   "metadata": {},
   "outputs": [],
   "source": [
    "#Función que calcule la nueva lista IRP para un vector de comparaciones.\n",
    "def IRPIndividual(comparacion1,comparacion2,vecNombres):\n",
    "    #Largo comparaciones\n",
    "    largoComp = len(comparacion1)\n",
    "    #Arreglos para el almacenamiento de indices\n",
    "    indIm1 = np.arange(largoComp) + 1\n",
    "    indIm2 = np.arange(largoComp) + 1\n",
    "    #Ordenar arreglo y sus indices. Lo indices representan las imágenes\n",
    "    indexOrden1,nOrdenados1 = ordenarIRP(indIm1,comparacion1,vecNombres)\n",
    "    indexOrden2,nOrdenados2 = ordenarIRP(indIm2,comparacion2,vecNombres)\n",
    "    #Llenar los valores IRP para las imagenes.\n",
    "    valoresIRP = np.zeros_like(comparacion1)\n",
    "    count = 0\n",
    "    for indice in indIm1:\n",
    "        pos1 = np.where(indexOrden1 == indice)[0][0] + 1\n",
    "        pos2 = np.where(indexOrden2 == indice)[0][0] + 1\n",
    "        valorIRPImagen = 1/((1/pos1)+(1/pos2))\n",
    "        valoresIRP[count] = valorIRPImagen\n",
    "        count += 1\n",
    "    #Ordenar la nueva lista de acuerdo a los valores IRP.\n",
    "    indicesIRP,nombresIRP = ordenarIRP(indIm1,valoresIRP,vecNombres)\n",
    "    return nombresIRP\n",
    "    \n",
    "    \n",
    "#Funcion que genera una nueva lista para todas la imágenes. Obtener nueva matriz de comparaciones.\n",
    "def IRP(matComparaciones1,matComparaciones2):\n",
    "    numeroFilas,nada = matComparaciones1.shape\n",
    "    #Ciclo\n",
    "    count = 0\n",
    "    matIRP = np.array([])\n",
    "    while count < numeroFilas:\n",
    "        if count == 0:\n",
    "            matIRP = IRPIndividual(matComparaciones1[count,:],matComparaciones1[count,:],nombres5)\n",
    "        elif(count==1):\n",
    "            agregar = IRPIndividual(matComparaciones1[count,:],matComparaciones1[count,:],nombres5)\n",
    "            matIRP = np.concatenate((np.array([matIRP]),np.array([agregar])),axis=0)\n",
    "        else:\n",
    "            agregar = IRPIndividual(matComparaciones1[count,:],matComparaciones1[count,:],nombres5)\n",
    "            matIRP = np.concatenate((matIRP,np.array([agregar])),axis=0)\n",
    "        count += 1\n",
    "    return matIRP"
   ]
  },
  {
   "cell_type": "code",
   "execution_count": 103,
   "metadata": {},
   "outputs": [],
   "source": [
    "matComparacionesIRP = IRP(compQ5,compQueryAlt)"
   ]
  },
  {
   "cell_type": "code",
   "execution_count": 104,
   "metadata": {},
   "outputs": [
    {
     "data": {
      "text/plain": [
       "(150, 407)"
      ]
     },
     "execution_count": 104,
     "metadata": {},
     "output_type": "execute_result"
    }
   ],
   "source": [
    "matComparacionesIRP.shape"
   ]
  },
  {
   "cell_type": "code",
   "execution_count": null,
   "metadata": {},
   "outputs": [],
   "source": []
  }
 ],
 "metadata": {
  "kernelspec": {
   "display_name": "Python 3",
   "language": "python",
   "name": "python3"
  },
  "language_info": {
   "codemirror_mode": {
    "name": "ipython",
    "version": 3
   },
   "file_extension": ".py",
   "mimetype": "text/x-python",
   "name": "python",
   "nbconvert_exporter": "python",
   "pygments_lexer": "ipython3",
   "version": "3.7.1"
  }
 },
 "nbformat": 4,
 "nbformat_minor": 2
}
