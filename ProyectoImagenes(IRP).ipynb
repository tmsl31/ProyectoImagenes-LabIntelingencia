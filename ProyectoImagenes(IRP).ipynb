{
 "cells": [
  {
   "cell_type": "markdown",
   "metadata": {},
   "source": [
    "# Proyecto Final Lab Inteligencia (Imagenes): IRP "
   ]
  },
  {
   "cell_type": "code",
   "execution_count": null,
   "metadata": {},
   "outputs": [],
   "source": [
    "#Imports\n",
    "import matplotlib.pyplot as plt\n",
    "import numpy as np\n",
    "import cv2\n",
    "from scipy.spatial import distance as dist\n",
    "import argparse\n",
    "import glob\n",
    "from skimage.feature import hog\n",
    "from skimage import exposure"
   ]
  },
  {
   "cell_type": "code",
   "execution_count": null,
   "metadata": {},
   "outputs": [],
   "source": [
    "#Realizar la carga de las listas usando numpy.load\n"
   ]
  },
  {
   "cell_type": "code",
   "execution_count": null,
   "metadata": {},
   "outputs": [],
   "source": [
    "#Funcion que ordene vectores\n",
    "def ordenarVector(vectorComparaciones,vecClases,vecNombres):\n",
    "    #Funcion que ordene un vector de comparaciones de acuerdo a la distancia. Adicionalmente debe ordenar las clases asociadas\n",
    "    #y los nombres de las figuras.\n",
    "    orden = np.argsort(vectorComparaciones)\n",
    "    #Ordenar\n",
    "    #Comparaciones\n",
    "    comparacionesOrdenado =np.sort(vectorComparaciones)\n",
    "    #Ordenar clases y nombres\n",
    "    clasesOrdenado = np.zeros_like(vecClases)\n",
    "    nombresOrdenado = np.zeros_like(vecNombres)\n",
    "    count = 0\n",
    "    for i in orden:\n",
    "        clasesOrdenado[count] = vecClases[i]\n",
    "        nombresOrdenado[count] = vecNombres[i]\n",
    "        count += 1\n",
    "    return comparacionesOrdenado,clasesOrdenado,nombresOrdenado  \n",
    "\n",
    "def ordenarIRP():\n",
    "    "
   ]
  },
  {
   "cell_type": "code",
   "execution_count": null,
   "metadata": {},
   "outputs": [],
   "source": [
    "#Función que calcule la nueva lista IRP.\n",
    "def IRPIndividual(comparacioes1,comparacion2):\n",
    "    #Largo comparaciones\n",
    "    largoComp = len(comparaciones1)\n",
    "    #Arreglos para el almacenamiento de indices\n",
    "    indIm1 = np.arange(largoComp)\n",
    "    indIm1 = np.arange(largoComp)\n",
    "    #Ordenar arreglo y sus indices. Lo indices representan las imágenes\n",
    "    \n",
    "    \n",
    "#Funcion que genera una nueva lista para todas la imágenes.\n",
    "def IRP():"
   ]
  }
 ],
 "metadata": {
  "kernelspec": {
   "display_name": "Python 3",
   "language": "python",
   "name": "python3"
  },
  "language_info": {
   "codemirror_mode": {
    "name": "ipython",
    "version": 3
   },
   "file_extension": ".py",
   "mimetype": "text/x-python",
   "name": "python",
   "nbconvert_exporter": "python",
   "pygments_lexer": "ipython3",
   "version": "3.7.1"
  }
 },
 "nbformat": 4,
 "nbformat_minor": 2
}
