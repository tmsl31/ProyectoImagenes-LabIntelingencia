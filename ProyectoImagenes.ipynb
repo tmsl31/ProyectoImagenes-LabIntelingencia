{
 "cells": [
  {
   "cell_type": "markdown",
   "metadata": {},
   "source": [
    "# Proyecto Final - Lab Inteligencia (Imágenes)"
   ]
  },
  {
   "cell_type": "code",
   "execution_count": 130,
   "metadata": {
    "scrolled": true
   },
   "outputs": [],
   "source": [
    "#Imports\n",
    "import matplotlib.pyplot as plt\n",
    "import numpy as np\n",
    "import cv2\n",
    "from scipy.spatial import distance as dist"
   ]
  },
  {
   "cell_type": "markdown",
   "metadata": {},
   "source": [
    "## 1.- Calculo de vector de caracteristicas"
   ]
  },
  {
   "cell_type": "markdown",
   "metadata": {},
   "source": [
    "### 1.a) Transformación a HSV"
   ]
  },
  {
   "cell_type": "code",
   "execution_count": 2,
   "metadata": {},
   "outputs": [],
   "source": [
    "#Funcion que transforme del espacio RGB al HSV\n",
    "def rgb2hsv (nombreImagen):\n",
    "    #Lectura\n",
    "    print(nombreImagen)\n",
    "    readImage = cv2.imread(nombreImagen)\n",
    "    #Transformacion de espacio. Devuelve una matriz 3d\n",
    "    imageHSV = cv2.cvtColor(readImage, cv2.COLOR_BGR2HSV)\n",
    "    return imageHSV"
   ]
  },
  {
   "cell_type": "markdown",
   "metadata": {},
   "source": [
    "### 1.b) División de la imagen (funciones)"
   ]
  },
  {
   "cell_type": "markdown",
   "metadata": {},
   "source": [
    "#### 1.b.i) 3x3 Celdas."
   ]
  },
  {
   "cell_type": "code",
   "execution_count": 92,
   "metadata": {},
   "outputs": [],
   "source": [
    "#Funcion que recorte la imagen en 3x3 celdas. Devuelve 3 submatrices.\n",
    "def div9Celdas(imHSV):\n",
    "    #division\n",
    "    H = imHSV[:,:,0]\n",
    "    S = imHSV[:,:,1]\n",
    "    V = imHSV[:,:,2]\n",
    "    #Dimensiones de la imagen\n",
    "    alto,ancho,prof = imHSV.shape\n",
    "    #Nuevas dimensiones\n",
    "    nuevoAlto = int(alto/3)\n",
    "    nuevoAncho = int(ancho/3)\n",
    "    #Creacion de las tres matrices (inicialmente vacias).\n",
    "    Hdiv = np.zeros([nuevoAlto,nuevoAncho,9])\n",
    "    Sdiv = np.zeros([nuevoAlto,nuevoAncho,9])\n",
    "    Vdiv = np.zeros([nuevoAlto,nuevoAncho,9])\n",
    "    #Dividir imagen\n",
    "    vecDivisionesAlto = [0,nuevoAlto,nuevoAlto,nuevoAlto*2,nuevoAlto*2,nuevoAlto*3]\n",
    "    vecDivisionesAncho = [0,nuevoAncho,nuevoAncho,nuevoAncho*2,nuevoAncho*2,nuevoAncho*3]\n",
    "    count = 0\n",
    "    count1 = 0\n",
    "    while count1 <= 5:\n",
    "        count2 = 0\n",
    "        while count2 <= 5:\n",
    "            Hdiv[:,:,count] = H[vecDivisionesAlto[count1]:vecDivisionesAlto[count1+1],vecDivisionesAncho[count2]:vecDivisionesAncho[count2+1]]\n",
    "            Sdiv[:,:,count] = S[vecDivisionesAlto[count1]:vecDivisionesAlto[count1+1],vecDivisionesAncho[count2]:vecDivisionesAncho[count2+1]]\n",
    "            Vdiv[:,:,count] = V[vecDivisionesAlto[count1]:vecDivisionesAlto[count1+1],vecDivisionesAncho[count2]:vecDivisionesAncho[count2+1]]\n",
    "            count += 1\n",
    "            count2 += 2\n",
    "        count1 +=2  \n",
    "        \n",
    "    return np.uint8(Hdiv),np.uint8(Sdiv),np.uint8(Vdiv)"
   ]
  },
  {
   "cell_type": "markdown",
   "metadata": {},
   "source": [
    "#### 1.b.ii) 4x4 Celdas"
   ]
  },
  {
   "cell_type": "code",
   "execution_count": 108,
   "metadata": {},
   "outputs": [],
   "source": [
    "#Funcion que recorte la imagen en 4x4 celdas. Devuelve 3 submatrices.\n",
    "def div16Celdas(imHSV):\n",
    "    H = imHSV[:,:,0]\n",
    "    S = imHSV[:,:,1]\n",
    "    V = imHSV[:,:,2]\n",
    "    #Dimensiones de la imagen\n",
    "    alto,ancho,prof = imHSV.shape\n",
    "    #Nuevas dimensiones\n",
    "    nuevoAlto = int(alto/4)\n",
    "    nuevoAncho = int(ancho/4)\n",
    "    #Creacion de las tres matrices (inicialmente vacias).\n",
    "    Hdiv = np.zeros([nuevoAlto,nuevoAncho,16])\n",
    "    Sdiv = np.zeros([nuevoAlto,nuevoAncho,16])\n",
    "    Vdiv = np.zeros([nuevoAlto,nuevoAncho,16])\n",
    "    #Dividir imagen\n",
    "    vecDivisionesAlto = [0,nuevoAlto,nuevoAlto,nuevoAlto*2,nuevoAlto*2,nuevoAlto*3,nuevoAlto*3,nuevoAlto*4]\n",
    "    vecDivisionesAncho = [0,nuevoAncho,nuevoAncho,nuevoAncho*2,nuevoAncho*2,nuevoAncho*3,nuevoAncho*3,nuevoAncho*4]\n",
    "    count = 0\n",
    "    count1 = 0\n",
    "    while count1 <= 7:\n",
    "        count2 = 0\n",
    "        while count2 <= 7:\n",
    "            Hdiv[:,:,count] = H[vecDivisionesAlto[count1]:vecDivisionesAlto[count1+1],vecDivisionesAncho[count2]:vecDivisionesAncho[count2+1]]\n",
    "            Sdiv[:,:,count] = S[vecDivisionesAlto[count1]:vecDivisionesAlto[count1+1],vecDivisionesAncho[count2]:vecDivisionesAncho[count2+1]]\n",
    "            Vdiv[:,:,count] = V[vecDivisionesAlto[count1]:vecDivisionesAlto[count1+1],vecDivisionesAncho[count2]:vecDivisionesAncho[count2+1]]\n",
    "            count += 1\n",
    "            count2 += 2\n",
    "        count1 +=2  \n",
    "        \n",
    "    return np.uint8(Hdiv),np.uint8(Sdiv),np.uint8(Vdiv)"
   ]
  },
  {
   "cell_type": "markdown",
   "metadata": {},
   "source": [
    "#### 1.b.iii) 6x6 celdas"
   ]
  },
  {
   "cell_type": "code",
   "execution_count": 128,
   "metadata": {},
   "outputs": [],
   "source": [
    "#Funcion que recorte la imagen en 6x6 celdas. Devuelve 3 submatrices.\n",
    "def div36Celdas(imHSV):\n",
    "    H = imHSV[:,:,0]\n",
    "    S = imHSV[:,:,1]\n",
    "    V = imHSV[:,:,2]\n",
    "    print(H)\n",
    "    #Dimensiones de la imagen\n",
    "    alto,ancho,prof = imHSV.shape\n",
    "    print(alto,ancho,prof)\n",
    "    #Nuevas dimensiones\n",
    "    nuevoAlto = int(alto/6)\n",
    "    nuevoAncho = int(ancho/6)\n",
    "    #Creacion de las tres matrices (inicialmente vacias).\n",
    "    Hdiv = np.zeros([nuevoAlto,nuevoAncho,36])\n",
    "    Sdiv = np.zeros([nuevoAlto,nuevoAncho,36])\n",
    "    Vdiv = np.zeros([nuevoAlto,nuevoAncho,36])\n",
    "    #Dividir imagen\n",
    "    vecDivisionesAlto = [0,nuevoAlto,nuevoAlto,nuevoAlto*2,nuevoAlto*2,nuevoAlto*3,nuevoAlto*3,nuevoAlto*4,nuevoAlto*4,nuevoAlto*5,nuevoAlto*5,nuevoAlto*6]\n",
    "    vecDivisionesAncho = [0,nuevoAncho,nuevoAncho,nuevoAncho*2,nuevoAncho*2,nuevoAncho*3,nuevoAncho*3,nuevoAncho*4,nuevoAncho*4,nuevoAncho*5,nuevoAncho*5,nuevoAncho*6]\n",
    "    count = 0\n",
    "    count1 = 0\n",
    "    while count1 <= 11:\n",
    "        count2 = 0\n",
    "        while count2 <= 11:\n",
    "            print(vecDivisionesAncho[count2],vecDivisionesAncho[count2+1])\n",
    "            a = H[vecDivisionesAlto[count1]:vecDivisionesAlto[count1+1],vecDivisionesAncho[count2]:vecDivisionesAncho[count2+1]]\n",
    "            print(a.shape)\n",
    "            Hdiv[:,:,count] = a\n",
    "            Sdiv[:,:,count] = S[vecDivisionesAlto[count1]:vecDivisionesAlto[count1+1],vecDivisionesAncho[count2]:vecDivisionesAncho[count2+1]]\n",
    "            Vdiv[:,:,count] = V[vecDivisionesAlto[count1]:vecDivisionesAlto[count1+1],vecDivisionesAncho[count2]:vecDivisionesAncho[count2+1]]\n",
    "            count += 1\n",
    "            count2 += 2\n",
    "        count1 +=2  \n",
    "        \n",
    "    return np.uint8(Hdiv),np.uint8(Sdiv),np.uint8(Vdiv)"
   ]
  },
  {
   "cell_type": "markdown",
   "metadata": {},
   "source": [
    "#### 1.b.iiii) División en formas irregulares."
   ]
  },
  {
   "cell_type": "code",
   "execution_count": 16,
   "metadata": {},
   "outputs": [],
   "source": [
    "#Funcion que devuelva los pedazos media luna.\n",
    "def cuatroSectores (imHSV):\n",
    "    #Dimensiones de la imagen\n",
    "    alto,ancho,prof = imHSV.shape\n",
    "    #centro (aprox)\n",
    "    centroH = int(alto/2)\n",
    "    centroW = int(ancho/2)   \n",
    "    #Dibujar elipse.\n",
    "    imHSVPost = cv2.ellipse(imHSV, (centroH,centroW), (int(alto/3),int(ancho/4)), 0, 0, 360, 0, thickness=-1)\n",
    "    #division\n",
    "    H = imHSVPost[:,:,0]\n",
    "    S = imHSVPost[:,:,1]\n",
    "    V = imHSVPost[:,:,2]\n",
    "    #Corte de las cuatro secciones.\n",
    "    H1 = H[0:centroH,0:centroW] \n",
    "    S1 = S[0:centroH,0:centroW]\n",
    "    V1 = V[0:centroH,0:centroW]\n",
    "    H2 = H[0:centroH,centroW-1:ancho] \n",
    "    S2 = S[0:centroH,centroW-1:ancho]\n",
    "    V2 = V[0:centroH,centroW-1:ancho]\n",
    "    H3 = H[centroH-1:alto,0:centroW] \n",
    "    S3 = S[centroH-1:alto,0:centroW]\n",
    "    V3 = V[centroH-1:alto,0:centroW]\n",
    "    H4 = H[centroH-1:alto,centroW-1:ancho] \n",
    "    S4 = S[centroH-1:alto,centroW-1:ancho]\n",
    "    V4 = V[centroH-1:alto,centroW-1:ancho]\n",
    "    return H1,S1,V1,H2,S2,V2,H3,S3,V3,H4,S4,V4,alto,ancho\n",
    "\n",
    "#Funcion que devuelva elipse central\n",
    "def elipseCentral(imHSV):\n",
    "    #Dimensiones de la imagen\n",
    "    alto,ancho,prof = imHSV.shape\n",
    "    #centro (aprox)\n",
    "    centroH = int(alto/2)\n",
    "    centroW = int(ancho/2)   \n",
    "    #Dibujar elipse.\n",
    "    #Mascara de color negro\n",
    "    mask = np.zeros_like(imHSV)\n",
    "    #Crear ellipse blanco (valores maximos)\n",
    "    mask = cv2.ellipse(mask,(centroH, centroW), (int(alto/3),int(ancho/4)), angle=0, startAngle=0, endAngle=360, color=255, thickness=-1)\n",
    "    #AND logico entre imagen y mascara\n",
    "    imagen5 = np.bitwise_and(imHSV,mask)\n",
    "    H = imagen5[:,:,0]\n",
    "    S = imagen5[:,:,1]\n",
    "    V = imagen5[:,:,2]\n",
    "    return H,S,V,mask[:,:,0]"
   ]
  },
  {
   "cell_type": "markdown",
   "metadata": {},
   "source": [
    "### 1.c) y d) Cálculo de histogramas, normalización y concatenación."
   ]
  },
  {
   "cell_type": "code",
   "execution_count": 32,
   "metadata": {},
   "outputs": [],
   "source": [
    "#Funcion que realice la normalización de histogramas\n",
    "def normHist(colIm,filIm,histogram):\n",
    "    #Dimensiones\n",
    "    largoHist = len(histogram)\n",
    "    print(largoHist)\n",
    "    #Histograma acumulado\n",
    "    histAcumulado = np.zeros(largoHist)\n",
    "    count = 0\n",
    "    suma = 0\n",
    "    while count < largoHist:\n",
    "        histAcumulado[count] = suma\n",
    "        suma += histogram[count]\n",
    "        count +=1\n",
    "    #Normalizacion\n",
    "    normHist = np.floor(histAcumulado*(255/(colIm*filIm)))\n",
    "    return normHist\n",
    "\n",
    "#Funcion que calcule el histograma y lo normalice con la funcion anterior.\n",
    "def histogramaNormalizado(mat,nBins,fils,cols,mask=np.array([0,0,0])):\n",
    "    #Calculo del histograma\n",
    "    if mask.all() == 0:\n",
    "        hist = cv2.calcHist([mat],[0],None,[nBins],[0,256])\n",
    "    else:\n",
    "        hist = cv2.calcHist([mat],[0],mask,[nBins],[0,256])\n",
    "    #Normalizacion\n",
    "    nH = normHist(cols,fils,hist)\n",
    "    return nH"
   ]
  },
  {
   "cell_type": "markdown",
   "metadata": {},
   "source": [
    "#### 1.cd.i) Histogramas Divisiones retagulares"
   ]
  },
  {
   "cell_type": "code",
   "execution_count": 99,
   "metadata": {},
   "outputs": [],
   "source": [
    "#Funcion que realice el calculo y normalización de una imagen\n",
    "def histRects(imagen,nDivisiones):\n",
    "    #Dimensiones de la imagen\n",
    "    [filas,cols,prof] = imagen.shape\n",
    "    #Obtencion de las divisiones.\n",
    "    if (nDivisiones==9):\n",
    "        Hdiv,Sdiv,Vdiv = div9Celdas(imagen)\n",
    "    elif (nDivisiones==16):\n",
    "        Hdiv,Sdiv,Vdiv = div16Celdas(imagen)        \n",
    "    elif (nDivisiones==36):\n",
    "        Hdiv,Sdiv,Vdiv = div36Celdas(imagen)\n",
    "    #Arreglos de histogramas.\n",
    "    histH = np.zeros(8*nDivisiones)\n",
    "    histS = np.zeros(12*nDivisiones)\n",
    "    histV = np.zeros(3*nDivisiones)\n",
    "    #Calculo y concatenación de los histogramas\n",
    "    count = 0\n",
    "    while count<nDivisiones:\n",
    "        print(Hdiv[:,:,count].shape)\n",
    "        #Calculo de los histogramas y concatenacion\n",
    "        hH = histogramaNormalizado(Hdiv[:,:,count],8,filas,cols)\n",
    "        hS = histogramaNormalizado(Sdiv[:,:,count],12,filas,cols)\n",
    "        hV = histogramaNormalizado(Vdiv[:,:,count],3,filas,cols)\n",
    "        #Concatenar\n",
    "        histH[count*8:count*8+8] = hH\n",
    "        histS[count*12:count*12+12] = hS\n",
    "        histV[count*3:count*3+3] = hV\n",
    "        count +=1\n",
    "    return histH,histS,histV"
   ]
  },
  {
   "cell_type": "markdown",
   "metadata": {},
   "source": [
    "#### 1.cd.ii) Histogramas divisiones no rectangulares."
   ]
  },
  {
   "cell_type": "code",
   "execution_count": 24,
   "metadata": {},
   "outputs": [],
   "source": [
    "#Funcion que calcule el histograma para la sección elipzoidal\n",
    "#Utiliza máscara.\n",
    "def histRedondo(imHSV):\n",
    "    filIm,colIm,prof = imHSV.shape\n",
    "    H,S,V,mask = elipseCentral(imHSV)\n",
    "    #Histogramas\n",
    "    hH = cv2.calcHist([H],[0],mask,[8],[0,256])\n",
    "    hS = cv2.calcHist([S],[0],mask,[12],[0,256])\n",
    "    hV = cv2.calcHist([V],[0],mask,[3],[0,256])\n",
    "    #Normalización\n",
    "    hH = normHist(colIm,filIm,hH)\n",
    "    hS = normHist(colIm,filIm,hS)\n",
    "    hV = normHist(colIm,filIm,hV)\n",
    "    return hH,hS,hV\n",
    "\n",
    "def defMask(mat,sector,fils,cols):\n",
    "    #Mascara blanca\n",
    "    mask = 255*np.ones_like(mat)\n",
    "    #Dimensiones de la matriz\n",
    "    hMat,wMat = mat.shape\n",
    "    #Dimensiones elipse\n",
    "    altoE,anchoE = (int(fils/3),int(cols/4))\n",
    "    if(sector==1):\n",
    "        mask = cv2.ellipse(mask,(hMat-1,wMat-1), (altoE,anchoE), 0, 180, 270, 0, thickness=-1) \n",
    "    elif(sector==2):\n",
    "        mask = cv2.ellipse(mask,(hMat-1,0), (altoE,anchoE), 0, 270, 360, 0, thickness=-1)\n",
    "    elif(sector==3):\n",
    "        mask = cv2.ellipse(mask,(0,0), (altoE,anchoE), 0, 0, 90, 0, thickness=-1)    \n",
    "    elif(sector==4):\n",
    "        mask = cv2.ellipse(mask,(0,wMat-1), (altoE,anchoE), 0, 90, 180, 0, thickness=-1)\n",
    "    return mask\n",
    "\n",
    "def histOtrosRedondo(imHSV):\n",
    "    #Cortes\n",
    "    H1,S1,V1,H2,S2,V2,H3,S3,V3,H4,S4,V4,fils,cols = cuatroSectores(imHSV)\n",
    "    #Máscaras\n",
    "    mask1=defMask(H1,1,fils,cols)\n",
    "    mask2=defMask(H2,2,fils,cols)\n",
    "    mask3=defMask(H3,3,fils,cols)\n",
    "    mask4=defMask(H4,4,fils,cols)\n",
    "    #Histogramas normalizados\n",
    "    H1Norm = histogramaNormalizado(H1,8,fils,cols,mask1)\n",
    "    H2Norm = histogramaNormalizado(H2,8,fils,cols,mask2)\n",
    "    H3Norm = histogramaNormalizado(H3,8,fils,cols,mask3)\n",
    "    H4Norm = histogramaNormalizado(H4,8,fils,cols,mask4)\n",
    "    S1Norm = histogramaNormalizado(S1,12,fils,cols,mask1)\n",
    "    S2Norm = histogramaNormalizado(S2,12,fils,cols,mask2)\n",
    "    S3Norm = histogramaNormalizado(S3,12,fils,cols,mask3)\n",
    "    S4Norm = histogramaNormalizado(S4,12,fils,cols,mask4)\n",
    "    V1Norm = histogramaNormalizado(V1,3,fils,cols,mask1)\n",
    "    V2Norm = histogramaNormalizado(V2,3,fils,cols,mask2)\n",
    "    V3Norm = histogramaNormalizado(V3,3,fils,cols,mask3)\n",
    "    V4Norm = histogramaNormalizado(V4,3,fils,cols,mask4)\n",
    "    #Concatenar\n",
    "    hH = np.zeros(8*4)\n",
    "    hS = np.zeros(12*4)\n",
    "    hV = np.zeros(3*4)\n",
    "    count = 0\n",
    "    hH[0:8]=H1Norm;hH[8:16]=H2Norm;hH[16:24]=H3Norm;hH[24:32]=H4Norm\n",
    "    hS[0:12]=S1Norm;hS[12:24]=S2Norm;hS[24:36]=S3Norm;hS[36:48]=S4Norm\n",
    "    hV[0:3]=V1Norm;hV[3:6]=V2Norm;hV[6:9]=V3Norm;hV[9:12]=V4Norm\n",
    "    return hH,hS,hV  \n",
    "\n",
    "def histNoCuadrado(imHSV):\n",
    "    #Histogramas sectores\n",
    "    hH1,hS1,hV1 = histRedondo(imHSV)\n",
    "    hH2,hS2,hV2 = histOtrosRedondo(imHSV)\n",
    "    #Concatenacion\n",
    "    hH = np.zeros(8*5)\n",
    "    hS = np.zeros(12*5)\n",
    "    hV = np.zeros(3*5)\n",
    "    hH[0:8*4] = hH2; hH[8*4:8*5] = hH1;\n",
    "    hS[0:12*4] = hS2; hS[12*4:12*5] = hS1;\n",
    "    hV[0:3*4] = hV2; hV[3*4:3*5] = hV1;\n",
    "    return np.array([hH,hS,hV])\n",
    "    "
   ]
  },
  {
   "cell_type": "code",
   "execution_count": 27,
   "metadata": {},
   "outputs": [],
   "source": [
    "#Funcion que calcule con el nombre de la imagen.\n",
    "def histSectores(nombreImagen,nDivisiones):\n",
    "    #Transformacion a HSV\n",
    "    imHSV = rgb2hsv(nombreImagen)\n",
    "    if(nDivisiones==5):\n",
    "        out = histNoCuadrado(imHSV)\n",
    "    else:\n",
    "        out = histRects(imHSV,nDivisiones)\n",
    "    return out"
   ]
  },
  {
   "cell_type": "markdown",
   "metadata": {},
   "source": [
    "## 2. Medidas de Similitud"
   ]
  },
  {
   "cell_type": "code",
   "execution_count": 133,
   "metadata": {},
   "outputs": [
    {
     "ename": "TypeError",
     "evalue": "only integer scalar arrays can be converted to a scalar index",
     "output_type": "error",
     "traceback": [
      "\u001b[1;31m---------------------------------------------------------------------------\u001b[0m",
      "\u001b[1;31mTypeError\u001b[0m                                 Traceback (most recent call last)",
      "\u001b[1;32m<ipython-input-133-175d403612a4>\u001b[0m in \u001b[0;36m<module>\u001b[1;34m()\u001b[0m\n\u001b[0;32m      1\u001b[0m \u001b[0ma\u001b[0m \u001b[1;33m=\u001b[0m \u001b[0mnp\u001b[0m\u001b[1;33m.\u001b[0m\u001b[0marray\u001b[0m\u001b[1;33m(\u001b[0m\u001b[1;33m[\u001b[0m\u001b[1;36m1\u001b[0m\u001b[1;33m,\u001b[0m\u001b[1;36m2\u001b[0m\u001b[1;33m,\u001b[0m\u001b[1;36m3\u001b[0m\u001b[1;33m]\u001b[0m\u001b[1;33m)\u001b[0m\u001b[1;33m\u001b[0m\u001b[0m\n\u001b[0;32m      2\u001b[0m \u001b[0mb\u001b[0m \u001b[1;33m=\u001b[0m \u001b[0mnp\u001b[0m\u001b[1;33m.\u001b[0m\u001b[0marray\u001b[0m\u001b[1;33m(\u001b[0m\u001b[1;33m[\u001b[0m\u001b[1;36m4\u001b[0m\u001b[1;33m,\u001b[0m\u001b[1;36m5\u001b[0m\u001b[1;33m,\u001b[0m\u001b[1;36m6\u001b[0m\u001b[1;33m]\u001b[0m\u001b[1;33m)\u001b[0m\u001b[1;33m\u001b[0m\u001b[0m\n\u001b[1;32m----> 3\u001b[1;33m \u001b[0mnp\u001b[0m\u001b[1;33m.\u001b[0m\u001b[0mconcatenate\u001b[0m\u001b[1;33m(\u001b[0m\u001b[0ma\u001b[0m\u001b[1;33m,\u001b[0m\u001b[0mb\u001b[0m\u001b[1;33m)\u001b[0m\u001b[1;33m\u001b[0m\u001b[0m\n\u001b[0m",
      "\u001b[1;31mTypeError\u001b[0m: only integer scalar arrays can be converted to a scalar index"
     ]
    }
   ],
   "source": [
    "a = np.array([1,2,3])\n",
    "b = np.array([4,5,6])\n",
    "np.concatenate(a,b)"
   ]
  },
  {
   "cell_type": "code",
   "execution_count": null,
   "metadata": {},
   "outputs": [],
   "source": []
  }
 ],
 "metadata": {
  "kernelspec": {
   "display_name": "Python 3",
   "language": "python",
   "name": "python3"
  },
  "language_info": {
   "codemirror_mode": {
    "name": "ipython",
    "version": 3
   },
   "file_extension": ".py",
   "mimetype": "text/x-python",
   "name": "python",
   "nbconvert_exporter": "python",
   "pygments_lexer": "ipython3",
   "version": "3.6.4"
  }
 },
 "nbformat": 4,
 "nbformat_minor": 2
}
