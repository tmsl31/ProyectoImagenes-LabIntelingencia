{
 "cells": [
  {
   "cell_type": "markdown",
   "metadata": {},
   "source": [
    "# Proyecto Final - Lab Inteligencia (Imágenes)"
   ]
  },
  {
   "cell_type": "code",
   "execution_count": 1,
   "metadata": {
    "scrolled": true
   },
   "outputs": [],
   "source": [
    "#Imports\n",
    "import matplotlib.pyplot as plt\n",
    "import numpy as np\n",
    "import cv2\n",
    "from scipy.spatial import distance as dist\n",
    "import argparse\n",
    "import glob"
   ]
  },
  {
   "cell_type": "markdown",
   "metadata": {},
   "source": [
    "## I.- Calculo de vector de caracteristicas"
   ]
  },
  {
   "cell_type": "markdown",
   "metadata": {},
   "source": [
    "### 1.a) Transformación a HSV"
   ]
  },
  {
   "cell_type": "code",
   "execution_count": 2,
   "metadata": {},
   "outputs": [],
   "source": [
    "#Funcion que transforme del espacio RGB al HSV\n",
    "def rgb2hsv (nombreImagen):\n",
    "    #Lectura\n",
    "    readImage = cv2.imread(nombreImagen)\n",
    "    #Transformacion de espacio. Devuelve una matriz 3d\n",
    "    imageHSV = cv2.cvtColor(readImage,cv2.COLOR_BGR2HSV)\n",
    "    return imageHSV"
   ]
  },
  {
   "cell_type": "markdown",
   "metadata": {},
   "source": [
    "### 1.b) División de la imagen (funciones)"
   ]
  },
  {
   "cell_type": "markdown",
   "metadata": {},
   "source": [
    "#### 1.b.i) 3x3 Celdas."
   ]
  },
  {
   "cell_type": "code",
   "execution_count": 3,
   "metadata": {},
   "outputs": [],
   "source": [
    "#Funcion que recorte la imagen en 3x3 celdas. Devuelve 3 submatrices.\n",
    "def div9Celdas(imHSV):\n",
    "    #division\n",
    "    H = imHSV[:,:,0]\n",
    "    S = imHSV[:,:,1]\n",
    "    V = imHSV[:,:,2]\n",
    "    #Dimensiones de la imagen\n",
    "    alto,ancho,prof = imHSV.shape\n",
    "    #Nuevas dimensiones\n",
    "    nuevoAlto = int(alto/3)\n",
    "    nuevoAncho = int(ancho/3)\n",
    "    #Creacion de las tres matrices (inicialmente vacias).\n",
    "    Hdiv = np.zeros([nuevoAlto,nuevoAncho,9])\n",
    "    Sdiv = np.zeros([nuevoAlto,nuevoAncho,9])\n",
    "    Vdiv = np.zeros([nuevoAlto,nuevoAncho,9])\n",
    "    #Dividir imagen\n",
    "    vecDivisionesAlto = [0,nuevoAlto,nuevoAlto,nuevoAlto*2,nuevoAlto*2,nuevoAlto*3]\n",
    "    vecDivisionesAncho = [0,nuevoAncho,nuevoAncho,nuevoAncho*2,nuevoAncho*2,nuevoAncho*3]\n",
    "    count = 0\n",
    "    count1 = 0\n",
    "    while count1 <= 5:\n",
    "        count2 = 0\n",
    "        while count2 <= 5:\n",
    "            Hdiv[:,:,count] = H[vecDivisionesAlto[count1]:vecDivisionesAlto[count1+1],vecDivisionesAncho[count2]:vecDivisionesAncho[count2+1]]\n",
    "            Sdiv[:,:,count] = S[vecDivisionesAlto[count1]:vecDivisionesAlto[count1+1],vecDivisionesAncho[count2]:vecDivisionesAncho[count2+1]]\n",
    "            Vdiv[:,:,count] = V[vecDivisionesAlto[count1]:vecDivisionesAlto[count1+1],vecDivisionesAncho[count2]:vecDivisionesAncho[count2+1]]\n",
    "            count += 1\n",
    "            count2 += 2\n",
    "        count1 +=2  \n",
    "        \n",
    "    return np.uint8(Hdiv),np.uint8(Sdiv),np.uint8(Vdiv)"
   ]
  },
  {
   "cell_type": "markdown",
   "metadata": {},
   "source": [
    "#### 1.b.ii) 4x4 Celdas"
   ]
  },
  {
   "cell_type": "code",
   "execution_count": 4,
   "metadata": {},
   "outputs": [],
   "source": [
    "#Funcion que recorte la imagen en 4x4 celdas. Devuelve 3 submatrices.\n",
    "def div16Celdas(imHSV):\n",
    "    H = imHSV[:,:,0]\n",
    "    S = imHSV[:,:,1]\n",
    "    V = imHSV[:,:,2]\n",
    "    #Dimensiones de la imagen\n",
    "    alto,ancho,prof = imHSV.shape\n",
    "    #Nuevas dimensiones\n",
    "    nuevoAlto = int(alto/4)\n",
    "    nuevoAncho = int(ancho/4)\n",
    "    #Creacion de las tres matrices (inicialmente vacias).\n",
    "    Hdiv = np.zeros([nuevoAlto,nuevoAncho,16])\n",
    "    Sdiv = np.zeros([nuevoAlto,nuevoAncho,16])\n",
    "    Vdiv = np.zeros([nuevoAlto,nuevoAncho,16])\n",
    "    #Dividir imagen\n",
    "    vecDivisionesAlto = [0,nuevoAlto,nuevoAlto,nuevoAlto*2,nuevoAlto*2,nuevoAlto*3,nuevoAlto*3,nuevoAlto*4]\n",
    "    vecDivisionesAncho = [0,nuevoAncho,nuevoAncho,nuevoAncho*2,nuevoAncho*2,nuevoAncho*3,nuevoAncho*3,nuevoAncho*4]\n",
    "    count = 0\n",
    "    count1 = 0\n",
    "    while count1 <= 7:\n",
    "        count2 = 0\n",
    "        while count2 <= 7:\n",
    "            Hdiv[:,:,count] = H[vecDivisionesAlto[count1]:vecDivisionesAlto[count1+1],vecDivisionesAncho[count2]:vecDivisionesAncho[count2+1]]\n",
    "            Sdiv[:,:,count] = S[vecDivisionesAlto[count1]:vecDivisionesAlto[count1+1],vecDivisionesAncho[count2]:vecDivisionesAncho[count2+1]]\n",
    "            Vdiv[:,:,count] = V[vecDivisionesAlto[count1]:vecDivisionesAlto[count1+1],vecDivisionesAncho[count2]:vecDivisionesAncho[count2+1]]\n",
    "            count += 1\n",
    "            count2 += 2\n",
    "        count1 +=2  \n",
    "        \n",
    "    return np.uint8(Hdiv),np.uint8(Sdiv),np.uint8(Vdiv)"
   ]
  },
  {
   "cell_type": "markdown",
   "metadata": {},
   "source": [
    "#### 1.b.iii) 6x6 celdas"
   ]
  },
  {
   "cell_type": "code",
   "execution_count": 5,
   "metadata": {},
   "outputs": [],
   "source": [
    "#Funcion que recorte la imagen en 6x6 celdas. Devuelve 3 submatrices.\n",
    "def div36Celdas(imHSV):\n",
    "    H = imHSV[:,:,0]\n",
    "    S = imHSV[:,:,1]\n",
    "    V = imHSV[:,:,2]\n",
    "    #Dimensiones de la imagen\n",
    "    alto,ancho,prof = imHSV.shape\n",
    "    #Nuevas dimensiones\n",
    "    nuevoAlto = int(alto/6)\n",
    "    nuevoAncho = int(ancho/6)\n",
    "    #Creacion de las tres matrices (inicialmente vacias).\n",
    "    Hdiv = np.zeros([nuevoAlto,nuevoAncho,36])\n",
    "    Sdiv = np.zeros([nuevoAlto,nuevoAncho,36])\n",
    "    Vdiv = np.zeros([nuevoAlto,nuevoAncho,36])\n",
    "    #Dividir imagen\n",
    "    vecDivisionesAlto = [0,nuevoAlto,nuevoAlto,nuevoAlto*2,nuevoAlto*2,nuevoAlto*3,nuevoAlto*3,nuevoAlto*4,nuevoAlto*4,nuevoAlto*5,nuevoAlto*5,nuevoAlto*6]\n",
    "    vecDivisionesAncho = [0,nuevoAncho,nuevoAncho,nuevoAncho*2,nuevoAncho*2,nuevoAncho*3,nuevoAncho*3,nuevoAncho*4,nuevoAncho*4,nuevoAncho*5,nuevoAncho*5,nuevoAncho*6]\n",
    "    count = 0\n",
    "    count1 = 0\n",
    "    while count1 <= 11:\n",
    "        count2 = 0\n",
    "        while count2 <= 11:\n",
    "            a = H[vecDivisionesAlto[count1]:vecDivisionesAlto[count1+1],vecDivisionesAncho[count2]:vecDivisionesAncho[count2+1]]\n",
    "            Hdiv[:,:,count] = a\n",
    "            Sdiv[:,:,count] = S[vecDivisionesAlto[count1]:vecDivisionesAlto[count1+1],vecDivisionesAncho[count2]:vecDivisionesAncho[count2+1]]\n",
    "            Vdiv[:,:,count] = V[vecDivisionesAlto[count1]:vecDivisionesAlto[count1+1],vecDivisionesAncho[count2]:vecDivisionesAncho[count2+1]]\n",
    "            count += 1\n",
    "            count2 += 2\n",
    "        count1 +=2  \n",
    "        \n",
    "    return np.uint8(Hdiv),np.uint8(Sdiv),np.uint8(Vdiv)"
   ]
  },
  {
   "cell_type": "markdown",
   "metadata": {},
   "source": [
    "#### 1.b.iiii) División en formas irregulares."
   ]
  },
  {
   "cell_type": "code",
   "execution_count": 6,
   "metadata": {},
   "outputs": [],
   "source": [
    "#Funcion que devuelva los pedazos media luna.\n",
    "def cuatroSectores (imHSV):\n",
    "    #Dimensiones de la imagen\n",
    "    alto,ancho,prof = imHSV.shape\n",
    "    #centro (aprox)\n",
    "    centroH = int(alto/2)\n",
    "    centroW = int(ancho/2)   \n",
    "    #Dibujar elipse.\n",
    "    imHSVPost = cv2.ellipse(imHSV, (centroH,centroW), (int(alto/3),int(ancho/4)), 0, 0, 360, 0, thickness=-1)\n",
    "    #division\n",
    "    H = imHSVPost[:,:,0]\n",
    "    S = imHSVPost[:,:,1]\n",
    "    V = imHSVPost[:,:,2]\n",
    "    #Corte de las cuatro secciones.\n",
    "    H1 = H[0:centroH,0:centroW] \n",
    "    S1 = S[0:centroH,0:centroW]\n",
    "    V1 = V[0:centroH,0:centroW]\n",
    "    H2 = H[0:centroH,centroW-1:ancho] \n",
    "    S2 = S[0:centroH,centroW-1:ancho]\n",
    "    V2 = V[0:centroH,centroW-1:ancho]\n",
    "    H3 = H[centroH-1:alto,0:centroW] \n",
    "    S3 = S[centroH-1:alto,0:centroW]\n",
    "    V3 = V[centroH-1:alto,0:centroW]\n",
    "    H4 = H[centroH-1:alto,centroW-1:ancho] \n",
    "    S4 = S[centroH-1:alto,centroW-1:ancho]\n",
    "    V4 = V[centroH-1:alto,centroW-1:ancho]\n",
    "    return H1,S1,V1,H2,S2,V2,H3,S3,V3,H4,S4,V4,alto,ancho\n",
    "\n",
    "#Funcion que devuelva elipse central\n",
    "def elipseCentral(imHSV):\n",
    "    #Dimensiones de la imagen\n",
    "    alto,ancho,prof = imHSV.shape\n",
    "    #centro (aprox)\n",
    "    centroH = int(alto/2)\n",
    "    centroW = int(ancho/2)   \n",
    "    #Dibujar elipse.\n",
    "    #Mascara de color negro\n",
    "    mask = np.zeros_like(imHSV)\n",
    "    #Crear ellipse blanco (valores maximos)\n",
    "    mask = cv2.ellipse(mask,(centroH, centroW), (int(alto/3),int(ancho/4)), angle=0, startAngle=0, endAngle=360, color=255, thickness=-1)\n",
    "    #AND logico entre imagen y mascara\n",
    "    imagen5 = np.bitwise_and(imHSV,mask)\n",
    "    H = imagen5[:,:,0]\n",
    "    S = imagen5[:,:,1]\n",
    "    V = imagen5[:,:,2]\n",
    "    return H,S,V,mask[:,:,0]"
   ]
  },
  {
   "cell_type": "markdown",
   "metadata": {},
   "source": [
    "### 1.c) y d) Cálculo de histogramas, normalización y concatenación."
   ]
  },
  {
   "cell_type": "code",
   "execution_count": 7,
   "metadata": {},
   "outputs": [],
   "source": [
    "#Funcion que realice la normalización de histogramas\n",
    "def normHist(colIm,filIm,histogram):\n",
    "    #Dimensiones\n",
    "    largoHist = len(histogram)\n",
    "    #Histograma acumulado\n",
    "    histAcumulado = np.zeros(largoHist)\n",
    "    count = 0\n",
    "    suma = 0\n",
    "    while count < largoHist:\n",
    "        histAcumulado[count] = suma\n",
    "        suma += histogram[count]\n",
    "        count +=1\n",
    "    #Normalizacion\n",
    "    normHist = np.floor(histAcumulado*(255/(colIm*filIm)))\n",
    "    return normHist\n",
    "\n",
    "#Funcion que calcule el histograma y lo normalice con la funcion anterior.\n",
    "def histogramaNormalizado(mat,nBins,fils,cols,mask=np.array([0,0,0])):\n",
    "    #Calculo del histograma\n",
    "    if mask.all() == 0:\n",
    "        hist = cv2.calcHist([mat],[0],None,[nBins],[0,256])\n",
    "    else:\n",
    "        hist = cv2.calcHist([mat],[0],mask,[nBins],[0,256])\n",
    "    #Normalizacion\n",
    "    nH = normHist(cols,fils,hist)\n",
    "    return nH"
   ]
  },
  {
   "cell_type": "markdown",
   "metadata": {},
   "source": [
    "#### 1.cd.i) Histogramas Divisiones retagulares"
   ]
  },
  {
   "cell_type": "code",
   "execution_count": 8,
   "metadata": {},
   "outputs": [],
   "source": [
    "#Funcion que realice el calculo y normalización de una imagen\n",
    "def histRects(imagen,nDivisiones):\n",
    "    #Dimensiones de la imagen\n",
    "    [filas,cols,prof] = imagen.shape\n",
    "    #Obtencion de las divisiones.\n",
    "    if (nDivisiones==9):\n",
    "        Hdiv,Sdiv,Vdiv = div9Celdas(imagen)\n",
    "    elif (nDivisiones==16):\n",
    "        Hdiv,Sdiv,Vdiv = div16Celdas(imagen)        \n",
    "    elif (nDivisiones==36):\n",
    "        Hdiv,Sdiv,Vdiv = div36Celdas(imagen)\n",
    "    #Arreglos de histogramas.\n",
    "    histH = np.zeros(8*nDivisiones)\n",
    "    histS = np.zeros(12*nDivisiones)\n",
    "    histV = np.zeros(3*nDivisiones)\n",
    "    #Calculo y concatenación de los histogramas\n",
    "    count = 0\n",
    "    while count<nDivisiones:\n",
    "        #Calculo de los histogramas y concatenacion\n",
    "        hH = histogramaNormalizado(Hdiv[:,:,count],8,filas,cols)\n",
    "        hS = histogramaNormalizado(Sdiv[:,:,count],12,filas,cols)\n",
    "        hV = histogramaNormalizado(Vdiv[:,:,count],3,filas,cols)\n",
    "        #Concatenar\n",
    "        histH[count*8:count*8+8] = hH\n",
    "        histS[count*12:count*12+12] = hS\n",
    "        histV[count*3:count*3+3] = hV\n",
    "        count +=1\n",
    "    return np.concatenate((hH,hS,hV))"
   ]
  },
  {
   "cell_type": "markdown",
   "metadata": {},
   "source": [
    "#### 1.cd.ii) Histogramas divisiones no rectangulares."
   ]
  },
  {
   "cell_type": "code",
   "execution_count": 9,
   "metadata": {},
   "outputs": [],
   "source": [
    "#Funcion que calcule el histograma para la sección elipzoidal\n",
    "#Utiliza máscara.\n",
    "def histRedondo(imHSV):\n",
    "    filIm,colIm,prof = imHSV.shape\n",
    "    H,S,V,mask = elipseCentral(imHSV)\n",
    "    #Histogramas\n",
    "    hH = cv2.calcHist([H],[0],mask,[8],[0,256])\n",
    "    hS = cv2.calcHist([S],[0],mask,[12],[0,256])\n",
    "    hV = cv2.calcHist([V],[0],mask,[3],[0,256])\n",
    "    #Normalización\n",
    "    hH = normHist(colIm,filIm,hH)\n",
    "    hS = normHist(colIm,filIm,hS)\n",
    "    hV = normHist(colIm,filIm,hV)\n",
    "    return hH,hS,hV\n",
    "\n",
    "def defMask(mat,sector,fils,cols):\n",
    "    #Mascara blanca\n",
    "    mask = 255*np.ones_like(mat)\n",
    "    #Dimensiones de la matriz\n",
    "    hMat,wMat = mat.shape\n",
    "    #Dimensiones elipse\n",
    "    altoE,anchoE = (int(fils/3),int(cols/4))\n",
    "    if(sector==1):\n",
    "        mask = cv2.ellipse(mask,(hMat-1,wMat-1), (altoE,anchoE), 0, 180, 270, 0, thickness=-1) \n",
    "    elif(sector==2):\n",
    "        mask = cv2.ellipse(mask,(hMat-1,0), (altoE,anchoE), 0, 270, 360, 0, thickness=-1)\n",
    "    elif(sector==3):\n",
    "        mask = cv2.ellipse(mask,(0,0), (altoE,anchoE), 0, 0, 90, 0, thickness=-1)    \n",
    "    elif(sector==4):\n",
    "        mask = cv2.ellipse(mask,(0,wMat-1), (altoE,anchoE), 0, 90, 180, 0, thickness=-1)\n",
    "    return mask\n",
    "\n",
    "def histOtrosRedondo(imHSV):\n",
    "    #Cortes\n",
    "    H1,S1,V1,H2,S2,V2,H3,S3,V3,H4,S4,V4,fils,cols = cuatroSectores(imHSV)\n",
    "    #Máscaras\n",
    "    mask1=defMask(H1,1,fils,cols)\n",
    "    mask2=defMask(H2,2,fils,cols)\n",
    "    mask3=defMask(H3,3,fils,cols)\n",
    "    mask4=defMask(H4,4,fils,cols)\n",
    "    #Histogramas normalizados\n",
    "    H1Norm = histogramaNormalizado(H1,8,fils,cols,mask1)\n",
    "    H2Norm = histogramaNormalizado(H2,8,fils,cols,mask2)\n",
    "    H3Norm = histogramaNormalizado(H3,8,fils,cols,mask3)\n",
    "    H4Norm = histogramaNormalizado(H4,8,fils,cols,mask4)\n",
    "    S1Norm = histogramaNormalizado(S1,12,fils,cols,mask1)\n",
    "    S2Norm = histogramaNormalizado(S2,12,fils,cols,mask2)\n",
    "    S3Norm = histogramaNormalizado(S3,12,fils,cols,mask3)\n",
    "    S4Norm = histogramaNormalizado(S4,12,fils,cols,mask4)\n",
    "    V1Norm = histogramaNormalizado(V1,3,fils,cols,mask1)\n",
    "    V2Norm = histogramaNormalizado(V2,3,fils,cols,mask2)\n",
    "    V3Norm = histogramaNormalizado(V3,3,fils,cols,mask3)\n",
    "    V4Norm = histogramaNormalizado(V4,3,fils,cols,mask4)\n",
    "    #Concatenar\n",
    "    hH = np.zeros(8*4)\n",
    "    hS = np.zeros(12*4)\n",
    "    hV = np.zeros(3*4)\n",
    "    count = 0\n",
    "    hH[0:8]=H1Norm;hH[8:16]=H2Norm;hH[16:24]=H3Norm;hH[24:32]=H4Norm\n",
    "    hS[0:12]=S1Norm;hS[12:24]=S2Norm;hS[24:36]=S3Norm;hS[36:48]=S4Norm\n",
    "    hV[0:3]=V1Norm;hV[3:6]=V2Norm;hV[6:9]=V3Norm;hV[9:12]=V4Norm\n",
    "    return hH,hS,hV  \n",
    "\n",
    "def histNoCuadrado(imHSV):\n",
    "    #Histogramas sectores\n",
    "    hH1,hS1,hV1 = histRedondo(imHSV)\n",
    "    hH2,hS2,hV2 = histOtrosRedondo(imHSV)\n",
    "    #Concatenacion\n",
    "    hH = np.zeros(8*5)\n",
    "    hS = np.zeros(12*5)\n",
    "    hV = np.zeros(3*5)\n",
    "    hH[0:8*4] = hH2; hH[8*4:8*5] = hH1;\n",
    "    hS[0:12*4] = hS2; hS[12*4:12*5] = hS1;\n",
    "    hV[0:3*4] = hV2; hV[3*4:3*5] = hV1;\n",
    "    return np.concatenate((hH,hS,hV))\n",
    "    "
   ]
  },
  {
   "cell_type": "code",
   "execution_count": 10,
   "metadata": {},
   "outputs": [],
   "source": [
    "#Funcion que calcule con el nombre de la imagen.\n",
    "def histSectores(nombreImagen,nDivisiones):\n",
    "    #Transformacion a HSV\n",
    "    imHSV = rgb2hsv(nombreImagen)\n",
    "    if(nDivisiones==5):\n",
    "        out = histNoCuadrado(imHSV)\n",
    "    else:\n",
    "        out = histRects(imHSV,nDivisiones)\n",
    "    return np.ravel(out)"
   ]
  },
  {
   "cell_type": "markdown",
   "metadata": {},
   "source": [
    "## II. Medidas de Similitud"
   ]
  },
  {
   "cell_type": "markdown",
   "metadata": {},
   "source": [
    "### 2) Implementación de medidas de similitud"
   ]
  },
  {
   "cell_type": "markdown",
   "metadata": {},
   "source": [
    "#### 2.1) Euclideana"
   ]
  },
  {
   "cell_type": "raw",
   "metadata": {},
   "source": [
    "Se utiliza la distancia euclideana para el calculo de la similitud entre histogramas. Se prueba la utidad de la distancia con una imagen similar, la misma imagen y una imagen notoriamente distinta."
   ]
  },
  {
   "cell_type": "code",
   "execution_count": 11,
   "metadata": {},
   "outputs": [],
   "source": [
    "def compareEuc(hist1,hist2):\n",
    "    #Comparar.\n",
    "    distancia = dist.euclidean(hist1, hist2,1)\n",
    "    return distancia"
   ]
  },
  {
   "cell_type": "markdown",
   "metadata": {},
   "source": [
    "## III. Orden de resultados por relevancia"
   ]
  },
  {
   "cell_type": "markdown",
   "metadata": {},
   "source": [
    "#### 3) Esquemas de comparación"
   ]
  },
  {
   "cell_type": "markdown",
   "metadata": {},
   "source": [
    "##### Incorporación de img_database y Cálculo de histogramas."
   ]
  },
  {
   "cell_type": "code",
   "execution_count": 12,
   "metadata": {},
   "outputs": [],
   "source": [
    "def extraerClase(stringClase):\n",
    "    #Extraer la clase de la imagen\n",
    "    clase = stringClase[1:4]\n",
    "    claseNum = int(clase)\n",
    "    return claseNum \n",
    "\n",
    "def incorporarDatabase():\n",
    "    #Funcion que incorpore elementos del database, con el fin posterior de realizar las comparaciones.\n",
    "    #Inicializa images para almacenar las imágenes\n",
    "    images = {}\n",
    "    #Recorrer el directorio\n",
    "    #Directorio\n",
    "    path = \"img_database/*.jpg\"\n",
    "    #Loop.\n",
    "    for imPath in glob.glob(path):\n",
    "        #Nombre del archivo\n",
    "        filename = imPath[imPath.rfind(\"\\\\\")+1:]\n",
    "        #Importar\n",
    "        image = cv2.imread(imPath)\n",
    "        #Almacenar en imagenes.\n",
    "        images[filename] = image\n",
    "    return images\n",
    "\n",
    "def incorporarDatabaseHist(nDivisiones):\n",
    "    #Funcion que calcule los histogramas del Database.\n",
    "    # Inicializa el diccionario index, para almacenar el nombre de imagen con su histograma\n",
    "    path = \"img_database/*.jpg\"\n",
    "    #Creación de arreglos\n",
    "    nombres = np.array([])\n",
    "    clases = np.array([])\n",
    "    histos = np.array([])\n",
    "    count = 0\n",
    "    #Loop.\n",
    "    for imPath in glob.glob(path):\n",
    "        #Nombre del archivo\n",
    "        filename = imPath[imPath.rfind(\"\\\\\")+1:]\n",
    "        #Agregar nombre y clase\n",
    "        nombres = np.append(nombres,str(filename))\n",
    "        clases = np.append(clases,extraerClase(filename))\n",
    "        #Obtener el histograma\n",
    "        histImagen = histSectores(imPath,nDivisiones)\n",
    "        #Incluir histograma\n",
    "        if (count==0):\n",
    "            histos=histImagen.T\n",
    "            count = 1\n",
    "        elif(count==1):\n",
    "            histos = np.concatenate(([histos],[histImagen.T]),axis=0)\n",
    "            count = 2\n",
    "        else:\n",
    "            histos = np.concatenate((histos,np.array([histImagen])),axis=0)\n",
    "    return nombres,clases,histos"
   ]
  },
  {
   "cell_type": "code",
   "execution_count": 13,
   "metadata": {},
   "outputs": [],
   "source": [
    "nombres5,clases5,histos5 = incorporarDatabaseHist(5)"
   ]
  },
  {
   "cell_type": "code",
   "execution_count": 14,
   "metadata": {},
   "outputs": [],
   "source": [
    "nombres9,clases9,histos9 = incorporarDatabaseHist(9)\n",
    "nombres16,clases16,histos16 = incorporarDatabaseHist(16)\n",
    "nombres36,clases36,histos36 = incorporarDatabaseHist(36)"
   ]
  },
  {
   "cell_type": "markdown",
   "metadata": {},
   "source": [
    "##### Comparación de una imagen versus la base de datos."
   ]
  },
  {
   "cell_type": "code",
   "execution_count": 15,
   "metadata": {},
   "outputs": [],
   "source": [
    "def distanciaUnaImagen(nombreImagenQuery,divisiones):\n",
    "    #Obtener histograma de la imagen query.\n",
    "    histQuery = histSectores(nombreImagenQuery,divisiones)\n",
    "    #Seleccion de la matriz de histogramas a comparar.\n",
    "    if (divisiones==5):\n",
    "        histComparar = histos5    \n",
    "    elif (divisiones==9):\n",
    "        histComparar = histos9\n",
    "    elif (divisiones==16):\n",
    "        histComparar = histos16\n",
    "    elif (divisiones==36):\n",
    "        histComparar = histos36\n",
    "    #Comparaciones:\n",
    "    comparaciones = np.array([])\n",
    "    for h in histComparar:\n",
    "        distancia = compareEuc(h,histQuery)\n",
    "        comparaciones = np.append(comparaciones,distancia)\n",
    "    return comparaciones"
   ]
  },
  {
   "cell_type": "markdown",
   "metadata": {},
   "source": [
    "##### Comparación de todas las querys."
   ]
  },
  {
   "cell_type": "code",
   "execution_count": 16,
   "metadata": {},
   "outputs": [],
   "source": [
    "def compararQueries(nDivisiones):\n",
    "    #Funcion que compare las queries para el numero de divisiones deseado.\n",
    "    # Inicializa el diccionario index, para almacenar el nombre de imagen con su histograma\n",
    "    path2 = \"img_query/*.jpg\"\n",
    "    #Creación de arreglos\n",
    "    nombres = np.array([])\n",
    "    clases = np.array([])\n",
    "    comparaciones = np.array([])\n",
    "    #Loop.\n",
    "    count = 0\n",
    "    for imPath in glob.glob(path2):\n",
    "        #Nombre del archivo\n",
    "        posName = imPath.rfind(\"\\\\\")\n",
    "        filename2 = imPath[posName + 1:]\n",
    "        #Calcular vector de comparaciones y la clase\n",
    "        vecComparaciones = distanciaUnaImagen(imPath,nDivisiones)\n",
    "        #Agregar nombre\n",
    "        nombres = np.append(nombres,str(filename2))\n",
    "        #Incluir clases\n",
    "        clases = np.append(clases,extraerClase(filename2))\n",
    "        #Incluir histograma\n",
    "        if (count==0):\n",
    "            comparaciones=vecComparaciones.T\n",
    "            count = 1\n",
    "        elif(count==1):\n",
    "            comparaciones = np.concatenate(([comparaciones],[vecComparaciones.T]),axis=0)\n",
    "            count = 2\n",
    "        else:\n",
    "            comparaciones = np.concatenate((comparaciones,[vecComparaciones]),axis=0)\n",
    "    return nombres,clases,comparaciones"
   ]
  },
  {
   "cell_type": "code",
   "execution_count": 17,
   "metadata": {},
   "outputs": [],
   "source": [
    "nombresQ5,clasesQ5,compQ5 = compararQueries(5)\n",
    "nombresQ9,clasesQ9,compQ9 = compararQueries(9)\n",
    "nombresQ16,clasesQ16,compQ16 = compararQueries(16)\n",
    "nombresQ36,clasesQ36,compQ36 = compararQueries(36)"
   ]
  },
  {
   "cell_type": "code",
   "execution_count": 18,
   "metadata": {},
   "outputs": [
    {
     "data": {
      "text/plain": [
       "(150, 407)"
      ]
     },
     "execution_count": 18,
     "metadata": {},
     "output_type": "execute_result"
    }
   ],
   "source": [
    "compQ5.shape"
   ]
  },
  {
   "cell_type": "markdown",
   "metadata": {},
   "source": [
    "#### 4) Cálculo de Rank"
   ]
  },
  {
   "cell_type": "code",
   "execution_count": 32,
   "metadata": {},
   "outputs": [],
   "source": [
    "def ordenarVector(vectorComparaciones,vecClases,vecNombres):\n",
    "    #Funcion que ordene un vector de comparaciones de acuerdo a la distancia. Adicionalmente debe ordenar las clases asociadas\n",
    "    #y los nombres de las figuras.\n",
    "    orden = np.argsort(vectorComparaciones)\n",
    "    #Ordenar\n",
    "    #Comparaciones\n",
    "    comparacionesOrdenado =np.sort(vectorComparaciones)\n",
    "    #Ordenar clases y nombres\n",
    "    clasesOrdenado = np.zeros_like(vecClases)\n",
    "    nombresOrdenado = np.zeros_like(vecNombres)\n",
    "    count = 0\n",
    "    for i in orden:\n",
    "        clasesOrdenado[count] = vecClases[i]\n",
    "        nombresOrdenado[count] = vecNombres[i]\n",
    "        count += 1\n",
    "    return comparacionesOrdenado,clasesOrdenado,nombresOrdenado    \n",
    "\n",
    "def rankIndividual(claseQuery,vectorComparaciones,vecNombresData,nDivisiones):\n",
    "    #Funcion que calcule el rank para una consulta en particular.\n",
    "    #Se usa clases 5, en realidad todas son iguales.\n",
    "    Nrel = np.count_nonzero(clases5 == claseQuery)\n",
    "    #Ordenar\n",
    "    comparacionesOrdenado,clasesOrdenado,nombresOrdenado = ordenarVector(vectorComparaciones,clases5,vecNombresData)\n",
    "    #Obtención de indices Ri\n",
    "    Ri = np.ravel(np.argwhere(clasesOrdenado==claseQuery))\n",
    "    #Calculo del Rank\n",
    "    rank = np.sum(Ri)/Nrel\n",
    "    return rank,nombresOrdenado\n",
    "    \n",
    "def rankQuery(vecClasesQuery,matComparacionesQuery,vecNombresData,nDivisiones):\n",
    "    #Funcion que calcule el rank promedio de todas las query.\n",
    "    count = 0\n",
    "    rankTot = np.array([])\n",
    "    for vecComparacionesQuery in matComparacionesQuery:\n",
    "        rank,nameOrdenado = rankIndividual(vecClasesQuery[count],vecComparacionesQuery,vecNombresData,nDivisiones)\n",
    "        rankTot = np.append(rankTot,rank)\n",
    "        count += 1\n",
    "    rankPromedio = np.mean(rankTot)\n",
    "    return rankPromedio"
   ]
  },
  {
   "cell_type": "code",
   "execution_count": 33,
   "metadata": {},
   "outputs": [
    {
     "name": "stdout",
     "output_type": "stream",
     "text": [
      "36.43413756613757\n",
      "62.33533333333334\n",
      "72.77422222222222\n",
      "80.80109523809524\n"
     ]
    }
   ],
   "source": [
    "promRank5 = rankQuery(clasesQ5,compQ5,nombres5,5)\n",
    "promRank9 = rankQuery(clasesQ9,compQ9,nombres9,9)\n",
    "promRank16 = rankQuery(clasesQ16,compQ16,nombres16,16)\n",
    "promRank36 = rankQuery(clasesQ36,compQ36,nombres36,36)\n",
    "\n",
    "print(promRank5)\n",
    "print(promRank9)\n",
    "print(promRank16)\n",
    "print(promRank36)"
   ]
  },
  {
   "cell_type": "markdown",
   "metadata": {},
   "source": [
    "#### 5) Rank Normalizado"
   ]
  },
  {
   "cell_type": "code",
   "execution_count": 49,
   "metadata": {},
   "outputs": [],
   "source": [
    "#Funcion que calcule el Rank Normalizado para las figuras.\n",
    "def rankNormalizadoIndividual(claseQuery,vectorComparaciones,vecNombresData,nDivisiones):\n",
    "    #Numero total de elementos en el conjunto.\n",
    "    N = len(nombres5)\n",
    "    #Elementos del conjunto de la misma clase que el elemnto de la Query.\n",
    "    Nrel = np.count_nonzero(clases5 == claseQuery)\n",
    "    #Ordenar comparaciones y datos. Ordenamiento de acuerdo al valor del vector de comparaciones.\n",
    "    comparacionesOrdenado,clasesOrdenado,nombresOrdenado = ordenarVector(vectorComparaciones,clases5,vecNombresData)\n",
    "    #Calculo del rank normalizado.\n",
    "    factor1 = 1/(N*Nrel)\n",
    "    factor2 = (Nrel*(Nrel+1))/(2)\n",
    "    sumaR = np.sum(np.ravel(np.argwhere(clasesOrdenado==claseQuery)))\n",
    "    rankNorm = factor1 * (sumaR - factor2)\n",
    "    return rankNorm,nombresOrdenado"
   ]
  },
  {
   "cell_type": "code",
   "execution_count": 50,
   "metadata": {},
   "outputs": [],
   "source": [
    "#Funcion que calcule el rank normalizado promedio de todas las figuras query.\n",
    "def rankNormalizadoQuery(vecClasesQuery,matComparacionesQuery,vecNombresData,nDivisiones):\n",
    "    #Funcion que calcule el rank promedio de todas las query.\n",
    "    count = 0\n",
    "    rankTot = 0\n",
    "    for vecComparacionesQuery in matComparacionesQuery:\n",
    "        rank,nameOrdenado = rankNormalizadoIndividual(vecClasesQuery[count],vecComparacionesQuery,vecNombresData,nDivisiones)\n",
    "        rankTot = np.append(rankTot,rank)\n",
    "        count += 1\n",
    "    rankPromedio = np.mean(rankTot)\n",
    "    return rankPromedio"
   ]
  },
  {
   "cell_type": "code",
   "execution_count": 53,
   "metadata": {},
   "outputs": [],
   "source": [
    "promRankNormalizado5 = rankNormalizadoQuery(clasesQ5,compQ5,nombres5,5)\n",
    "promRankNormalizado9 = rankNormalizadoQuery(clases9,compQ9,nombres9,9)\n",
    "promRankNormalizado16 = rankNormalizadoQuery(clases16,compQ16,nombres16,16)\n",
    "promRankNormalizado36 = rankNormalizadoQuery(clases36,compQ36,nombres36,36)"
   ]
  },
  {
   "cell_type": "code",
   "execution_count": 54,
   "metadata": {},
   "outputs": [
    {
     "name": "stdout",
     "output_type": "stream",
     "text": [
      "0.08439430227509699\n",
      "0.47024563696749133\n",
      "0.4634010138977026\n",
      "0.4562766107468094\n"
     ]
    }
   ],
   "source": [
    "print(promRankNormalizado5)\n",
    "print(promRankNormalizado9)\n",
    "print(promRankNormalizado16)\n",
    "print(promRankNormalizado36)"
   ]
  },
  {
   "cell_type": "markdown",
   "metadata": {},
   "source": [
    "#### 6) Extracción de resultados cualitativos"
   ]
  },
  {
   "cell_type": "code",
   "execution_count": null,
   "metadata": {},
   "outputs": [],
   "source": []
  }
 ],
 "metadata": {
  "kernelspec": {
   "display_name": "Python 3",
   "language": "python",
   "name": "python3"
  },
  "language_info": {
   "codemirror_mode": {
    "name": "ipython",
    "version": 3
   },
   "file_extension": ".py",
   "mimetype": "text/x-python",
   "name": "python",
   "nbconvert_exporter": "python",
   "pygments_lexer": "ipython3",
   "version": "3.7.1"
  }
 },
 "nbformat": 4,
 "nbformat_minor": 2
}
