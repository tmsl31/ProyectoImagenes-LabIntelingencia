{
 "cells": [
  {
   "cell_type": "markdown",
   "metadata": {},
   "source": [
    "# Proyecto Final - Lab Inteligencia (Imágenes)"
   ]
  },
  {
   "cell_type": "code",
   "execution_count": 3,
   "metadata": {
    "scrolled": true
   },
   "outputs": [],
   "source": [
    "#Imports\n",
    "import matplotlib.pyplot as plt\n",
    "import numpy as np\n",
    "import cv2"
   ]
  },
  {
   "cell_type": "markdown",
   "metadata": {},
   "source": [
    "## 1.- Calculo de vector de caracteristicas"
   ]
  },
  {
   "cell_type": "markdown",
   "metadata": {},
   "source": [
    "### 1.a) Transformación a HSV"
   ]
  },
  {
   "cell_type": "code",
   "execution_count": 4,
   "metadata": {},
   "outputs": [],
   "source": [
    "#Funcion que transforme del espacio RGB al HSV\n",
    "def rgb2hsv (nombreImagen):\n",
    "    #Lectura\n",
    "    readImage = cv2.imread(nombreImagen)\n",
    "    #Transformacion de espacio. Devuelve una matriz 3d\n",
    "    imageHSV = cv2.cvtColor(readImage, cv2.COLOR_BGR2HSV)\n",
    "    return imageHSV"
   ]
  },
  {
   "cell_type": "code",
   "execution_count": 90,
   "metadata": {},
   "outputs": [],
   "source": [
    "a = cv2.imread('100501.jpg',-1)\n",
    "b = cv2.imread('logo.jpg',-1)"
   ]
  },
  {
   "cell_type": "code",
   "execution_count": 53,
   "metadata": {},
   "outputs": [],
   "source": [
    "cv2.imshow('pruebaA',a)\n",
    "cv2.waitKey(0)\n",
    "cv2.destroyAllWindows()"
   ]
  },
  {
   "cell_type": "markdown",
   "metadata": {},
   "source": [
    "### 1.b) División de la imagen (funciones)"
   ]
  },
  {
   "cell_type": "markdown",
   "metadata": {},
   "source": [
    "#### 1.b.i) 3x3 Celdas."
   ]
  },
  {
   "cell_type": "code",
   "execution_count": 6,
   "metadata": {},
   "outputs": [],
   "source": [
    "#Funcion que recorte la imagen en 3x3 celdas. Devuelve 3 submatrices.\n",
    "def div9Celdas(imagen):\n",
    "    #Transformacion a HSV\n",
    "    imHSV = rgb2hsv(imagen)\n",
    "    #division\n",
    "    H = imHSV[:,:,0]\n",
    "    S = imHSV[:,:,1]\n",
    "    V = imHSV[:,:,2]\n",
    "    #Dimensiones de la imagen\n",
    "    alto,ancho,prof = imHSV.shape\n",
    "    #Nuevas dimensiones\n",
    "    nuevoAlto = int(alto/3)\n",
    "    nuevoAncho = int(ancho/3)\n",
    "    #Creacion de las tres matrices (inicialmente vacias).\n",
    "    Hdiv = np.zeros([nuevoAlto,nuevoAncho,9])\n",
    "    Sdiv = np.zeros([nuevoAlto,nuevoAncho,9])\n",
    "    Vdiv = np.zeros([nuevoAlto,nuevoAncho,9])\n",
    "    #Dividir imagen\n",
    "    vecDivisionesAlto = [0,nuevoAlto,nuevoAlto,nuevoAlto*2,nuevoAlto*2,nuevoAlto*3]\n",
    "    vecDivisionesAncho = [0,nuevoAncho,nuevoAncho,nuevoAncho*2,nuevoAncho*2,nuevoAncho*3]\n",
    "    count = 0\n",
    "    count1 = 0\n",
    "    while count1 <= 5:\n",
    "        count2 = 0\n",
    "        while count2 <= 5:\n",
    "            a = H[vecDivisionesAlto[count1]:vecDivisionesAlto[count1+1],vecDivisionesAncho[count2]:vecDivisionesAncho[count2+1]]\n",
    "            Hdiv[:,:,count] = a\n",
    "            Sdiv[:,:,count] = S[vecDivisionesAlto[count1]:vecDivisionesAlto[count1+1],vecDivisionesAncho[count2]:vecDivisionesAncho[count2+1]]\n",
    "            Vdiv[:,:,count] = V[vecDivisionesAlto[count1]:vecDivisionesAlto[count1+1],vecDivisionesAncho[count2]:vecDivisionesAncho[count2+1]]\n",
    "            count += 1\n",
    "            count2 += 2\n",
    "        count1 +=2  \n",
    "        \n",
    "    return Hdiv,Sdiv,Vdiv"
   ]
  },
  {
   "cell_type": "code",
   "execution_count": 7,
   "metadata": {},
   "outputs": [],
   "source": [
    "[hdiv1,sdiv1,vdiv1] = div9Celdas('100501.jpg')"
   ]
  },
  {
   "cell_type": "markdown",
   "metadata": {},
   "source": [
    "#### 1.b.ii) 4x4 Celdas"
   ]
  },
  {
   "cell_type": "code",
   "execution_count": 8,
   "metadata": {},
   "outputs": [],
   "source": [
    "#Funcion que recorte la imagen en 4x4 celdas. Devuelve 3 submatrices.\n",
    "def div16Celdas(imagen):\n",
    "    #Transformacion a HSV\n",
    "    imHSV = rgb2hsv(imagen)\n",
    "    #division\n",
    "    H = imHSV[:,:,0]\n",
    "    S = imHSV[:,:,1]\n",
    "    V = imHSV[:,:,2]\n",
    "    #Dimensiones de la imagen\n",
    "    alto,ancho,prof = imHSV.shape\n",
    "    #Nuevas dimensiones\n",
    "    nuevoAlto = int(alto/4)\n",
    "    nuevoAncho = int(ancho/4)\n",
    "    #Creacion de las tres matrices (inicialmente vacias).\n",
    "    Hdiv = np.zeros([nuevoAlto,nuevoAncho,16])\n",
    "    Sdiv = np.zeros([nuevoAlto,nuevoAncho,16])\n",
    "    Vdiv = np.zeros([nuevoAlto,nuevoAncho,16])\n",
    "    #Dividir imagen\n",
    "    vecDivisionesAlto = [0,nuevoAlto,nuevoAlto,nuevoAlto*2,nuevoAlto*2,nuevoAlto*3,nuevoAlto*3,nuevoAlto*4]\n",
    "    vecDivisionesAncho = [0,nuevoAncho,nuevoAncho,nuevoAncho*2,nuevoAncho*2,nuevoAncho*3,nuevoAncho*3,nuevoAncho*4]\n",
    "    count = 0\n",
    "    count1 = 0\n",
    "    while count1 <= 7:\n",
    "        count2 = 0\n",
    "        while count2 <= 7:\n",
    "            a = H[vecDivisionesAlto[count1]:vecDivisionesAlto[count1+1],vecDivisionesAncho[count2]:vecDivisionesAncho[count2+1]]\n",
    "            Hdiv[:,:,count] = a\n",
    "            Sdiv[:,:,count] = S[vecDivisionesAlto[count1]:vecDivisionesAlto[count1+1],vecDivisionesAncho[count2]:vecDivisionesAncho[count2+1]]\n",
    "            Vdiv[:,:,count] = V[vecDivisionesAlto[count1]:vecDivisionesAlto[count1+1],vecDivisionesAncho[count2]:vecDivisionesAncho[count2+1]]\n",
    "            count += 1\n",
    "            count2 += 2\n",
    "        count1 +=2  \n",
    "        \n",
    "    return Hdiv,Sdiv,Vdiv"
   ]
  },
  {
   "cell_type": "code",
   "execution_count": 9,
   "metadata": {},
   "outputs": [],
   "source": [
    "[hdiv2,sdiv2,vdiv2] = div16Celdas('100501.jpg')"
   ]
  },
  {
   "cell_type": "markdown",
   "metadata": {},
   "source": [
    "#### 1.b.iii) 6x6 celdas"
   ]
  },
  {
   "cell_type": "code",
   "execution_count": 10,
   "metadata": {},
   "outputs": [],
   "source": [
    "#Funcion que recorte la imagen en 4x4 celdas. Devuelve 3 submatrices.\n",
    "def div64Celdas(imagen):\n",
    "    #Transformacion a HSV\n",
    "    imHSV = rgb2hsv(imagen)\n",
    "    #division\n",
    "    H = imHSV[:,:,0]\n",
    "    S = imHSV[:,:,1]\n",
    "    V = imHSV[:,:,2]\n",
    "    #Dimensiones de la imagen\n",
    "    alto,ancho,prof = imHSV.shape\n",
    "    #Nuevas dimensiones\n",
    "    nuevoAlto = int(alto/4)\n",
    "    nuevoAncho = int(ancho/4)\n",
    "    #Creacion de las tres matrices (inicialmente vacias).\n",
    "    Hdiv = np.zeros([nuevoAlto,nuevoAncho,64])\n",
    "    Sdiv = np.zeros([nuevoAlto,nuevoAncho,64])\n",
    "    Vdiv = np.zeros([nuevoAlto,nuevoAncho,64])\n",
    "    #Dividir imagen\n",
    "    vecDivisionesAlto = [0,nuevoAlto,nuevoAlto,nuevoAlto*2,nuevoAlto*2,nuevoAlto*3,nuevoAlto*3,nuevoAlto*4,nuevoAlto*4,nuevoAlto*5,nuevoAlto*5,nuevoAlto*6]\n",
    "    vecDivisionesAncho = [0,nuevoAncho,nuevoAncho,nuevoAncho*2,nuevoAncho*2,nuevoAncho*3,nuevoAlto*3,nuevoAlto*4,nuevoAlto*4,nuevoAlto*5,nuevoAlto*5,nuevoAlto*6]\n",
    "    count = 0\n",
    "    count1 = 0\n",
    "    while count1 <= 11:\n",
    "        count2 = 0\n",
    "        while count2 <= 11:\n",
    "            a = H[vecDivisionesAlto[count1]:vecDivisionesAlto[count1+1],vecDivisionesAncho[count2]:vecDivisionesAncho[count2+1]]\n",
    "            Hdiv[:,:,count] = a\n",
    "            Sdiv[:,:,count] = S[vecDivisionesAlto[count1]:vecDivisionesAlto[count1+1],vecDivisionesAncho[count2]:vecDivisionesAncho[count2+1]]\n",
    "            Vdiv[:,:,count] = V[vecDivisionesAlto[count1]:vecDivisionesAlto[count1+1],vecDivisionesAncho[count2]:vecDivisionesAncho[count2+1]]\n",
    "            count += 1\n",
    "            count2 += 2\n",
    "        count1 +=2  \n",
    "        \n",
    "    return Hdiv,Sdiv,Vdiv"
   ]
  },
  {
   "cell_type": "markdown",
   "metadata": {},
   "source": [
    "#### 1.b.iiii) División en formas irregulares."
   ]
  },
  {
   "cell_type": "code",
   "execution_count": null,
   "metadata": {},
   "outputs": [],
   "source": [
    "#Funcion que devuelva los pedazos media luna.\n",
    "def cuatroSectores (imagen):\n",
    "    #Dimensiones de la imagen\n",
    "    alto,ancho,prof = imagen.shape\n",
    "    #centro (aprox)\n",
    "    centroH = int(alto/2)\n",
    "    centroW = int(ancho/2)   \n",
    "    #Dibujar elipse.\n",
    "    imagenPost = cv2.ellipse(imagen, (centroH,centroW), (int(alto/3),int(ancho/4)), 0, 0, 360, 0, thickness=-1)\n",
    "    #Transformacion a HSV\n",
    "    imHSV = rgb2hsv(imagenPost)\n",
    "    #division\n",
    "    H = imHSVPost[:,:,0]\n",
    "    S = imHSVPost[:,:,1]\n",
    "    V = imHSVPost[:,:,2]\n",
    "    #Corte de las cuatro secciones.\n",
    "    H1 = H[0:centroH,0:centroW] \n",
    "    S1 = S[0:centroH,0:centroW]\n",
    "    V1 = V[0:centroH,0:centroW]\n",
    "    H2 = H[0:centroH,centroW-1:ancho] \n",
    "    S2 = S[0:centroH,centroW-1:ancho]\n",
    "    V2 = V[0:centroH,centroW-1:ancho]\n",
    "    H3 = H[centroH-1:alto,0:centroW] \n",
    "    S3 = S[centroH-1:alto,0:centroW]\n",
    "    V3 = V[centroH-1:alto,0:centroW]\n",
    "    H3 = H[centroH-1:alto,centroW-1:ancho] \n",
    "    S3 = S[centroH-1:alto,centroW-1:ancho]\n",
    "    V3 = V[centroH-1:alto,centroW-1:ancho]\n",
    "    return H1,S1,V1,H2,S2,V2,H3,S3,V3,H4,S4,V4\n",
    "\n",
    "#Funcion que devuelva elipse central\n",
    "def elipseCentral(imagen):\n",
    "    #Dimensiones de la imagen\n",
    "    alto,ancho,prof = imagen.shape\n",
    "    #centro (aprox)\n",
    "    centroH = int(alto/2)\n",
    "    centroW = int(ancho/2)   \n",
    "    #Dibujar elipse.\n",
    "    #Mascara de color negro\n",
    "    mask = np.zeros_like(imagen)\n",
    "    #Crear ellipse blanco (valores maximos)\n",
    "    mask=cv2.ellipse(mask, (centroH, centroW), (int(alto/3),int(ancho/4)), angle=0, startAngle=0, endAngle=360, color=(255,255,255), thickness=-1)\n",
    "    #AND logico entre imagen y mascara\n",
    "    imagen5 = np.bitwise_and(imagen,mask)\n",
    "    return imagen5"
   ]
  },
  {
   "cell_type": "code",
   "execution_count": null,
   "metadata": {},
   "outputs": [],
   "source": []
  }
 ],
 "metadata": {
  "kernelspec": {
   "display_name": "Python 3",
   "language": "python",
   "name": "python3"
  },
  "language_info": {
   "codemirror_mode": {
    "name": "ipython",
    "version": 3
   },
   "file_extension": ".py",
   "mimetype": "text/x-python",
   "name": "python",
   "nbconvert_exporter": "python",
   "pygments_lexer": "ipython3",
   "version": "3.6.4"
  }
 },
 "nbformat": 4,
 "nbformat_minor": 2
}
