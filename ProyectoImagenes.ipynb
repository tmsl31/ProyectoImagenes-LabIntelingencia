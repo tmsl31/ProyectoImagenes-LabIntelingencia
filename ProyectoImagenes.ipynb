{
 "cells": [
  {
   "cell_type": "markdown",
   "metadata": {},
   "source": [
    "# Proyecto Final - Lab Inteligencia (Imágenes)"
   ]
  },
  {
   "cell_type": "code",
   "execution_count": null,
   "metadata": {
    "scrolled": true
   },
   "outputs": [],
   "source": [
    "#Imports\n",
    "import matplotlib.pyplot as plt\n",
    "import numpy as np\n",
    "import cv2"
   ]
  },
  {
   "cell_type": "markdown",
   "metadata": {},
   "source": [
    "## 1.- Calculo de vector de caracteristicas"
   ]
  },
  {
   "cell_type": "markdown",
   "metadata": {},
   "source": [
    "### 1.a) Transformación a HSV"
   ]
  },
  {
   "cell_type": "code",
   "execution_count": null,
   "metadata": {},
   "outputs": [],
   "source": [
    "#Funcion que transforme del espacio RGB al HSV\n",
    "def rgb2hsv (nombreImagen):\n",
    "    #Lectura\n",
    "    print(nombreImagen)\n",
    "    readImage = cv2.imread(nombreImagen)\n",
    "    #Transformacion de espacio. Devuelve una matriz 3d\n",
    "    imageHSV = cv2.cvtColor(readImage, cv2.COLOR_BGR2HSV)\n",
    "    return imageHSV"
   ]
  },
  {
   "cell_type": "code",
   "execution_count": null,
   "metadata": {},
   "outputs": [],
   "source": [
    "a = cv2.imread('100501.jpg',-1)\n",
    "b = cv2.imread('logo.jpg',-1)"
   ]
  },
  {
   "cell_type": "code",
   "execution_count": null,
   "metadata": {},
   "outputs": [],
   "source": [
    "cv2.imshow('pruebaA',a)\n",
    "cv2.waitKey(0)\n",
    "cv2.destroyAllWindows()"
   ]
  },
  {
   "cell_type": "markdown",
   "metadata": {},
   "source": [
    "### 1.b) División de la imagen (funciones)"
   ]
  },
  {
   "cell_type": "markdown",
   "metadata": {},
   "source": [
    "#### 1.b.i) 3x3 Celdas."
   ]
  },
  {
   "cell_type": "code",
   "execution_count": null,
   "metadata": {},
   "outputs": [],
   "source": [
    "#Funcion que recorte la imagen en 3x3 celdas. Devuelve 3 submatrices.\n",
    "def div9Celdas(imHSV):\n",
    "    #division\n",
    "    H = imHSV[:,:,0]\n",
    "    S = imHSV[:,:,1]\n",
    "    V = imHSV[:,:,2]\n",
    "    #Dimensiones de la imagen\n",
    "    alto,ancho,prof = imHSV.shape\n",
    "    #Nuevas dimensiones\n",
    "    nuevoAlto = int(alto/3)\n",
    "    nuevoAncho = int(ancho/3)\n",
    "    #Creacion de las tres matrices (inicialmente vacias).\n",
    "    Hdiv = np.zeros([nuevoAlto,nuevoAncho,9])\n",
    "    Sdiv = np.zeros([nuevoAlto,nuevoAncho,9])\n",
    "    Vdiv = np.zeros([nuevoAlto,nuevoAncho,9])\n",
    "    #Dividir imagen\n",
    "    vecDivisionesAlto = [0,nuevoAlto,nuevoAlto,nuevoAlto*2,nuevoAlto*2,nuevoAlto*3]\n",
    "    vecDivisionesAncho = [0,nuevoAncho,nuevoAncho,nuevoAncho*2,nuevoAncho*2,nuevoAncho*3]\n",
    "    count = 0\n",
    "    count1 = 0\n",
    "    while count1 <= 5:\n",
    "        count2 = 0\n",
    "        while count2 <= 5:\n",
    "            a = H[vecDivisionesAlto[count1]:vecDivisionesAlto[count1+1],vecDivisionesAncho[count2]:vecDivisionesAncho[count2+1]]\n",
    "            Hdiv[:,:,count] = a\n",
    "            Sdiv[:,:,count] = S[vecDivisionesAlto[count1]:vecDivisionesAlto[count1+1],vecDivisionesAncho[count2]:vecDivisionesAncho[count2+1]]\n",
    "            Vdiv[:,:,count] = V[vecDivisionesAlto[count1]:vecDivisionesAlto[count1+1],vecDivisionesAncho[count2]:vecDivisionesAncho[count2+1]]\n",
    "            count += 1\n",
    "            count2 += 2\n",
    "        count1 +=2  \n",
    "        \n",
    "    return Hdiv,Sdiv,Vdiv"
   ]
  },
  {
   "cell_type": "markdown",
   "metadata": {},
   "source": [
    "#### 1.b.ii) 4x4 Celdas"
   ]
  },
  {
   "cell_type": "code",
   "execution_count": null,
   "metadata": {},
   "outputs": [],
   "source": [
    "#Funcion que recorte la imagen en 4x4 celdas. Devuelve 3 submatrices.\n",
    "def div16Celdas(imHSV):\n",
    "    H = imHSV[:,:,0]\n",
    "    S = imHSV[:,:,1]\n",
    "    V = imHSV[:,:,2]\n",
    "    #Dimensiones de la imagen\n",
    "    alto,ancho,prof = imHSV.shape\n",
    "    #Nuevas dimensiones\n",
    "    nuevoAlto = int(alto/4)\n",
    "    nuevoAncho = int(ancho/4)\n",
    "    #Creacion de las tres matrices (inicialmente vacias).\n",
    "    Hdiv = np.zeros([nuevoAlto,nuevoAncho,16])\n",
    "    Sdiv = np.zeros([nuevoAlto,nuevoAncho,16])\n",
    "    Vdiv = np.zeros([nuevoAlto,nuevoAncho,16])\n",
    "    #Dividir imagen\n",
    "    vecDivisionesAlto = [0,nuevoAlto,nuevoAlto,nuevoAlto*2,nuevoAlto*2,nuevoAlto*3,nuevoAlto*3,nuevoAlto*4]\n",
    "    vecDivisionesAncho = [0,nuevoAncho,nuevoAncho,nuevoAncho*2,nuevoAncho*2,nuevoAncho*3,nuevoAncho*3,nuevoAncho*4]\n",
    "    count = 0\n",
    "    count1 = 0\n",
    "    while count1 <= 7:\n",
    "        count2 = 0\n",
    "        while count2 <= 7:\n",
    "            a = H[vecDivisionesAlto[count1]:vecDivisionesAlto[count1+1],vecDivisionesAncho[count2]:vecDivisionesAncho[count2+1]]\n",
    "            Hdiv[:,:,count] = a\n",
    "            Sdiv[:,:,count] = S[vecDivisionesAlto[count1]:vecDivisionesAlto[count1+1],vecDivisionesAncho[count2]:vecDivisionesAncho[count2+1]]\n",
    "            Vdiv[:,:,count] = V[vecDivisionesAlto[count1]:vecDivisionesAlto[count1+1],vecDivisionesAncho[count2]:vecDivisionesAncho[count2+1]]\n",
    "            count += 1\n",
    "            count2 += 2\n",
    "        count1 +=2  \n",
    "        \n",
    "    return Hdiv,Sdiv,Vdiv"
   ]
  },
  {
   "cell_type": "markdown",
   "metadata": {},
   "source": [
    "#### 1.b.iii) 6x6 celdas"
   ]
  },
  {
   "cell_type": "code",
   "execution_count": null,
   "metadata": {},
   "outputs": [],
   "source": [
    "#Funcion que recorte la imagen en 4x4 celdas. Devuelve 3 submatrices.\n",
    "def div64Celdas(imHSV):\n",
    "    #division\n",
    "    H = imHSV[:,:,0]\n",
    "    S = imHSV[:,:,1]\n",
    "    V = imHSV[:,:,2]\n",
    "    #Dimensiones de la imagen\n",
    "    alto,ancho,prof = imHSV.shape\n",
    "    #Nuevas dimensiones\n",
    "    nuevoAlto = int(alto/4)\n",
    "    nuevoAncho = int(ancho/4)\n",
    "    #Creacion de las tres matrices (inicialmente vacias).\n",
    "    Hdiv = np.zeros([nuevoAlto,nuevoAncho,64])\n",
    "    Sdiv = np.zeros([nuevoAlto,nuevoAncho,64])\n",
    "    Vdiv = np.zeros([nuevoAlto,nuevoAncho,64])\n",
    "    #Dividir imagen\n",
    "    vecDivisionesAlto = [0,nuevoAlto,nuevoAlto,nuevoAlto*2,nuevoAlto*2,nuevoAlto*3,nuevoAlto*3,nuevoAlto*4,nuevoAlto*4,nuevoAlto*5,nuevoAlto*5,nuevoAlto*6]\n",
    "    vecDivisionesAncho = [0,nuevoAncho,nuevoAncho,nuevoAncho*2,nuevoAncho*2,nuevoAncho*3,nuevoAlto*3,nuevoAlto*4,nuevoAlto*4,nuevoAlto*5,nuevoAlto*5,nuevoAlto*6]\n",
    "    count = 0\n",
    "    count1 = 0\n",
    "    while count1 <= 11:\n",
    "        count2 = 0\n",
    "        while count2 <= 11:\n",
    "            a = H[vecDivisionesAlto[count1]:vecDivisionesAlto[count1+1],vecDivisionesAncho[count2]:vecDivisionesAncho[count2+1]]\n",
    "            Hdiv[:,:,count] = a\n",
    "            Sdiv[:,:,count] = S[vecDivisionesAlto[count1]:vecDivisionesAlto[count1+1],vecDivisionesAncho[count2]:vecDivisionesAncho[count2+1]]\n",
    "            Vdiv[:,:,count] = V[vecDivisionesAlto[count1]:vecDivisionesAlto[count1+1],vecDivisionesAncho[count2]:vecDivisionesAncho[count2+1]]\n",
    "            count += 1\n",
    "            count2 += 2\n",
    "        count1 +=2  \n",
    "        \n",
    "    return Hdiv,Sdiv,Vdiv"
   ]
  },
  {
   "cell_type": "markdown",
   "metadata": {},
   "source": [
    "#### 1.b.iiii) División en formas irregulares."
   ]
  },
  {
   "cell_type": "code",
   "execution_count": 9,
   "metadata": {},
   "outputs": [],
   "source": [
    "#Funcion que devuelva los pedazos media luna.\n",
    "def cuatroSectores (imHSV):\n",
    "    #Dimensiones de la imagen\n",
    "    alto,ancho,prof = imHSV.shape\n",
    "    #centro (aprox)\n",
    "    centroH = int(alto/2)\n",
    "    centroW = int(ancho/2)   \n",
    "    #Dibujar elipse.\n",
    "    imHSVPost = cv2.ellipse(imHSV, (centroH,centroW), (int(alto/3),int(ancho/4)), 0, 0, 360, 0, thickness=-1)\n",
    "    #division\n",
    "    H = imHSVPost[:,:,0]\n",
    "    S = imHSVPost[:,:,1]\n",
    "    V = imHSVPost[:,:,2]\n",
    "    #Corte de las cuatro secciones.\n",
    "    H1 = H[0:centroH,0:centroW] \n",
    "    S1 = S[0:centroH,0:centroW]\n",
    "    V1 = V[0:centroH,0:centroW]\n",
    "    H2 = H[0:centroH,centroW-1:ancho] \n",
    "    S2 = S[0:centroH,centroW-1:ancho]\n",
    "    V2 = V[0:centroH,centroW-1:ancho]\n",
    "    H3 = H[centroH-1:alto,0:centroW] \n",
    "    S3 = S[centroH-1:alto,0:centroW]\n",
    "    V3 = V[centroH-1:alto,0:centroW]\n",
    "    H3 = H[centroH-1:alto,centroW-1:ancho] \n",
    "    S3 = S[centroH-1:alto,centroW-1:ancho]\n",
    "    V3 = V[centroH-1:alto,centroW-1:ancho]\n",
    "    return H1,S1,V1,H2,S2,V2,H3,S3,V3,H4,S4,V4,alto,ancho\n",
    "\n",
    "#Funcion que devuelva elipse central\n",
    "def elipseCentral(imHSV):\n",
    "    #Dimensiones de la imagen\n",
    "    alto,ancho,prof = imHSV.shape\n",
    "    #centro (aprox)\n",
    "    centroH = int(alto/2)\n",
    "    centroW = int(ancho/2)   \n",
    "    #Dibujar elipse.\n",
    "    #Mascara de color negro\n",
    "    mask = np.zeros_like(imHSV)\n",
    "    #Crear ellipse blanco (valores maximos)\n",
    "    mask = cv2.ellipse(mask,(centroH, centroW), (int(alto/3),int(ancho/4)), angle=0, startAngle=0, endAngle=360, color=255, thickness=-1)\n",
    "    #AND logico entre imagen y mascara\n",
    "    imagen5 = np.bitwise_and(imHSV,mask)\n",
    "    H = imagen5[:,:,0]\n",
    "    S = imagen5[:,:,1]\n",
    "    V = imagen5[:,:,2]\n",
    "    return H,S,V,mask[:,:,0]"
   ]
  },
  {
   "cell_type": "markdown",
   "metadata": {},
   "source": [
    "### 1.c) y d) Cálculo de histogramas, normalización y concatenación."
   ]
  },
  {
   "cell_type": "code",
   "execution_count": null,
   "metadata": {},
   "outputs": [],
   "source": [
    "#Funcion que realice la normalización de histogramas\n",
    "def normHist(colIm,filIm,histogram):\n",
    "    #Dimensiones\n",
    "    largoHist = len(histogram)\n",
    "    print(largoHist)\n",
    "    #Histograma acumulado\n",
    "    histAcumulado = np.zeros(largoHist)\n",
    "    count = 0\n",
    "    suma = 0\n",
    "    while count < largoHist:\n",
    "        histAcumulado[count] = suma\n",
    "        suma += histogram[count]\n",
    "        count +=1\n",
    "    #Normalizacion\n",
    "    normHist = np.floor(histAcumulado*(255/(colIm*filIm)))\n",
    "    return normHist\n",
    "\n",
    "#Funcion que calcule el histograma y lo normalice con la funcion anterior.\n",
    "def histogramaNormalizado(mat,nBins,fils,cols,mask=0):\n",
    "    #Calculo del histograma\n",
    "    if mask == 0:\n",
    "        hist = cv2.calcHist([mat],[0],None,[nBins],[0,256])\n",
    "    else:\n",
    "        hist = cv2.calcHist([mat],[0],mask,[nBins],[0,256])\n",
    "    #Normalizacion\n",
    "    nH = normHist(cols,fils,hist)\n",
    "    return nH"
   ]
  },
  {
   "cell_type": "markdown",
   "metadata": {},
   "source": [
    "#### 1.cd.i) Histogramas Divisiones retagulares"
   ]
  },
  {
   "cell_type": "code",
   "execution_count": null,
   "metadata": {},
   "outputs": [],
   "source": [
    "#Funcion que realice el calculo y normalización de una imagen\n",
    "def histRects(imagen,nDivisiones):\n",
    "    #Dimensiones de la imagen\n",
    "    [filas,cols,prof] = imagen.shape\n",
    "    #Obtencion de las divisiones.\n",
    "    if (nDivisiones==9):\n",
    "        Hdiv,Sdiv,Vdiv = div9Celdas(imagen)\n",
    "    elif (nDivisiones==16):\n",
    "        Hdiv,Sdiv,Vdiv = div16Celdas(imagen)        \n",
    "    elif (nDivisiones==36):\n",
    "        Hdiv,Sdiv,Vdiv = div36Celdas(imagen)\n",
    "    #Arreglos de histogramas.\n",
    "    histH = np.zeros(8*nDivisiones)\n",
    "    histS = np.zeros(12*nDivisiones)\n",
    "    histV = np.zeros(3*nDivisiones)\n",
    "    #Calculo y concatenación de los histogramas\n",
    "    count = 0\n",
    "    while count<nDivisiones:\n",
    "        #Calculo de los histogramas y concatenacion\n",
    "        hH = histogramaNormalizado(Hdiv[:,:,count],8,filas,cols)\n",
    "        hS = histogramaNormalizado(Sdiv[:,:,count],12,filas,cols)\n",
    "        hV = histogramaNormalizado(Vdiv[:,:,count],3,filas,cols)\n",
    "        #Concatenar\n",
    "        histH[count*8:count*8+8] = hH\n",
    "        histH[count*8:count*12+12] = hS\n",
    "        histH[count*8:count*3+3] = hV\n",
    "        count +=1\n",
    "    return histH,histS,histV"
   ]
  },
  {
   "cell_type": "markdown",
   "metadata": {},
   "source": [
    "#### 1.cd.ii) Histogramas divisiones no rectangulares."
   ]
  },
  {
   "cell_type": "code",
   "execution_count": 11,
   "metadata": {},
   "outputs": [],
   "source": [
    "#Funcion que calcule el histograma para la sección elipzoidal\n",
    "#Utiliza máscara.\n",
    "def histRedondo(imHSV):\n",
    "    filIm,colIm = imHSV.shape\n",
    "    H,S,V,mask = elipseCentral(imHSV)\n",
    "    #Histogramas\n",
    "    hH = cv2.calcHist([H],[0],mask,[8],[0,256])\n",
    "    hS = cv2.calcHist([S],[0],mask,[12],[0,256])\n",
    "    hV = cv2.calcHist([V],[0],mask,[3],[0,256])\n",
    "    #Normalización\n",
    "    hH = normHist(colIm,filIm,hH)\n",
    "    hS = normHist(colIm,filIm,hS)\n",
    "    hV = normHist(colIm,filIm,hV)\n",
    "    return hH,hS,hV\n",
    "\n",
    "def defMask(mat,sector,fils,cols):\n",
    "    #Mascara blanca\n",
    "    mask = 255*np.ones_like(mat)\n",
    "    #Dimensiones de la matriz\n",
    "    hMat,wMat = mat.shape\n",
    "    #Dimensiones elipse\n",
    "    altoE,anchoE = (int(fils/3),int(cols/4))\n",
    "    if(sector==1):\n",
    "        mask = cv2.ellipse(mask,(hMat-1,wMat-1), (altoE,anchoE), 0, 180, 270, 0, thickness=-1) \n",
    "    elif(sector==2):\n",
    "        mask = cv2.ellipse(mask,(hMat-1,0), (altoE,anchoE), 0, 270, 360, 0, thickness=-1)\n",
    "    elif(sector==3):\n",
    "        mask = cv2.ellipse(mask,(0,0), (altoE,anchoE), 0, 0, 90, 0, thickness=-1)    \n",
    "    elif(sector==4):\n",
    "        mask = cv2.ellipse(mask,(0,wMat-1), (altoE,anchoE), 0, 90, 180, 0, thickness=-1)\n",
    "    return mask\n",
    "\n",
    "def histOtrosRedondo(imHSV):\n",
    "    #Cortes\n",
    "    H1,S1,V1,H2,S2,V2,H3,S3,V3,H4,S4,V4,fils,cols = cuatroSectores(imHSV)\n",
    "    #Máscaras\n",
    "    mask1=defMask(H1,1,fils,cols)\n",
    "    mask2=defMask(H2,2,fils,cols)\n",
    "    mask3=defMask(H3,3,fils,cols)\n",
    "    mask4=defMask(H4,4,fils,cols)\n",
    "    #Histogramas normalizados\n",
    "    H1Norm = histogramaNormalizado(H1,8,fils,cols,mask1)\n",
    "    H2Norm = histogramaNormalizado(H2,8,fils,cols,mask2)\n",
    "    H3Norm = histogramaNormalizado(H3,8,fils,cols,mask3)\n",
    "    H4Norm = histogramaNormalizado(H4,8,fils,cols,mask4)\n",
    "    S1Norm = histogramaNormalizado(S1,12,fils,cols,mask1)\n",
    "    S2Norm = histogramaNormalizado(S2,12,fils,cols,mask2)\n",
    "    S3Norm = histogramaNormalizado(S3,12,fils,cols,mask3)\n",
    "    S4Norm = histogramaNormalizado(S4,12,fils,cols,mask4)\n",
    "    V1Norm = histogramaNormalizado(V1,3,fils,cols,mask1)\n",
    "    V2Norm = histogramaNormalizado(V2,3,fils,cols,mask2)\n",
    "    V3Norm = histogramaNormalizado(V3,3,fils,cols,mask3)\n",
    "    V4Norm = histogramaNormalizado(V4,3,fils,cols,mask4)\n",
    "    #Concatenar\n",
    "    hH = np.zeros(8*4)\n",
    "    hS = np.zeros(12*4)\n",
    "    hV = np.zeros(3*4)\n",
    "    count = 0\n",
    "    hH[0:7]=H1Norm;hH[8:15]=H2Norm;hH[16:23]=H3Norm;hH[24:31]=H4Norm\n",
    "    hS[0:11]=S1Norm;hH[12:23]=S2Norm;hS[24:35]=S3Norm;hH[36:47]=S4Norm\n",
    "    hV[0:2]=V1Norm;hV[3:5]=V2Norm;hV[6:8]=V3Norm;hV[9:11]=V4Norm\n",
    "    return hH,hS,hV  \n",
    "\n",
    "def histNoCuadrado(imHSV):\n",
    "    #Histogramas sectores\n",
    "    hH1,hS1,hV1 = histRedondo(imHSV)\n",
    "    hH2,hS2,hV2 = histOtrosRedondo(imHSV)\n",
    "    #Concatenacion\n",
    "    hH = np.zeros(8*5)\n",
    "    hS = np.zeros(12*5)\n",
    "    hV = np.zeros(3*5)\n",
    "    hH[0:8*4] = hH2; hH[8*4:8*5] = hH1;\n",
    "    hS[0:12*4] = hS2; hS[12*4:12*5] = hS1;\n",
    "    hV[0:3*4] = hV2; hV[3*4:3*5] = hV1;\n",
    "    return hH,hS,hV\n",
    "    "
   ]
  },
  {
   "cell_type": "code",
   "execution_count": 12,
   "metadata": {},
   "outputs": [],
   "source": [
    "#Funcion que calcule con el nombre de la imagen.\n",
    "def histSectores(nombreImagen,nDivisiones):\n",
    "    #Transformacion a HSV\n",
    "    imHSV = rgb2hsv(nombreImagen)\n",
    "    if(nDivisiones==5):\n",
    "        out = histNoCuadrado(imHSV)\n",
    "    else:\n",
    "        out = histRects(imHSV,nDivisiones)\n",
    "    return out"
   ]
  },
  {
   "cell_type": "code",
   "execution_count": null,
   "metadata": {},
   "outputs": [],
   "source": []
  }
 ],
 "metadata": {
  "kernelspec": {
   "display_name": "Python 3",
   "language": "python",
   "name": "python3"
  },
  "language_info": {
   "codemirror_mode": {
    "name": "ipython",
    "version": 3
   },
   "file_extension": ".py",
   "mimetype": "text/x-python",
   "name": "python",
   "nbconvert_exporter": "python",
   "pygments_lexer": "ipython3",
   "version": "3.6.4"
  }
 },
 "nbformat": 4,
 "nbformat_minor": 2
}
